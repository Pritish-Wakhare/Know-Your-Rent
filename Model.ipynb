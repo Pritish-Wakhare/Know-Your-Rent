{
 "cells": [
  {
   "cell_type": "markdown",
   "id": "further-attraction",
   "metadata": {},
   "source": [
    "### Libraries"
   ]
  },
  {
   "cell_type": "code",
   "execution_count": 74,
   "id": "hidden-scanning",
   "metadata": {},
   "outputs": [],
   "source": [
    "import pandas as pd\n",
    "import numpy as np\n",
    "import matplotlib.pyplot as plt\n",
    "import seaborn as sns\n",
    "from scipy import stats \n",
    "pd.set_option(\"display.max_columns\", None)"
   ]
  },
  {
   "cell_type": "markdown",
   "id": "happy-nomination",
   "metadata": {},
   "source": [
    "### Reading Data"
   ]
  },
  {
   "cell_type": "code",
   "execution_count": 2,
   "id": "polar-finish",
   "metadata": {},
   "outputs": [],
   "source": [
    "df_mum1 = pd.read_csv(\"scrape_data\\Mumbai_south.csv\")\n",
    "df_mum2 = pd.read_csv(\"scrape_data\\Mumbai_thane.csv\")\n",
    "df_mum3 = pd.read_csv(\"scrape_data/mum_suburban.csv\")\n",
    "df_bang = pd.read_csv(\"scrape_data\\Banglore.csv\")\n",
    "df_bang2 = pd.read_csv(\"scrape_data\\Banglore_whitefiled.csv\")\n",
    "df_bang3 = pd.read_csv(\"scrape_data/banglore_koramangala.csv\")\n",
    "df_chen = pd.read_csv(\"scrape_data\\chennai.csv\")\n",
    "df_chen2 = pd.read_csv(\"scrape_data\\chennai_2.csv\") \n",
    "df_chen3 = pd.read_csv(\"scrape_data/chennai_south.csv\")                       \n",
    "df_delhi = pd.read_csv(\"scrape_data\\delhi.csv\")\n",
    "df_delhi2 = pd.read_csv(\"scrape_data\\delhi_2.csv\")\n",
    "df_delhi3 = pd.read_csv(\"scrape_data/new_delhi.csv\")\n",
    "df_gurgaon = pd.read_csv(\"scrape_data\\gurgaon.csv\")\n",
    "df_gurgaon2 = pd.read_csv(\"scrape_data\\gurgaon2.csv\")\n",
    "df_ghaziabaad = pd.read_csv(\"scrape_data\\ghaziabad.csv\")  \n",
    "df_pune = pd.read_csv(\"scrape_data\\pune.csv\")\n",
    "df_pune2 = pd.read_csv(\"scrape_data\\pune_district.csv\")\n",
    "df_pune3 = pd.read_csv(\"scrape_data/pune_railwaystn.csv\")\n",
    "df_hyd = pd.read_csv(\"scrape_data\\hyderabad.csv\")\n",
    "df_hyd2 = pd.read_csv(\"scrape_data\\hyderabad2.csv\")\n",
    "df_noida2 = pd.read_csv(\"scrape_data\\greater_noida.csv\")\n",
    "df_far = pd.read_csv(\"scrape_data/faridabad.csv\")\n",
    "df_noida = pd.read_csv(\"scrape_data/noida.csv\")"
   ]
  },
  {
   "cell_type": "markdown",
   "id": "applied-bibliography",
   "metadata": {},
   "source": [
    "### Concatinating Data based on Column Names"
   ]
  },
  {
   "cell_type": "code",
   "execution_count": 3,
   "id": "greek-variance",
   "metadata": {},
   "outputs": [],
   "source": [
    "df = pd.concat([df_mum1,df_mum2,df_mum3,df_bang,df_bang2,\n",
    "                df_bang3,df_chen,df_chen2,df_chen3,df_delhi,\n",
    "                df_delhi2,df_delhi3,df_gurgaon,df_gurgaon2,\n",
    "                df_ghaziabaad,df_pune,df_pune2,df_pune3,\n",
    "                df_hyd,df_hyd2,df_noida,df_noida2,df_far])\n"
   ]
  },
  {
   "cell_type": "code",
   "execution_count": 4,
   "id": "actual-broad",
   "metadata": {},
   "outputs": [],
   "source": [
    "## Resetting the Index\n",
    "df.reset_index(drop=True,inplace=True)"
   ]
  },
  {
   "cell_type": "code",
   "execution_count": 5,
   "id": "normal-dream",
   "metadata": {},
   "outputs": [
    {
     "data": {
      "text/html": [
       "<div>\n",
       "<style scoped>\n",
       "    .dataframe tbody tr th:only-of-type {\n",
       "        vertical-align: middle;\n",
       "    }\n",
       "\n",
       "    .dataframe tbody tr th {\n",
       "        vertical-align: top;\n",
       "    }\n",
       "\n",
       "    .dataframe thead th {\n",
       "        text-align: right;\n",
       "    }\n",
       "</style>\n",
       "<table border=\"1\" class=\"dataframe\">\n",
       "  <thead>\n",
       "    <tr style=\"text-align: right;\">\n",
       "      <th></th>\n",
       "      <th>Name</th>\n",
       "      <th>Location</th>\n",
       "      <th>Area</th>\n",
       "      <th>Deposit</th>\n",
       "      <th>Furnishing</th>\n",
       "      <th>Facing</th>\n",
       "      <th>Water_Supply</th>\n",
       "      <th>Floor</th>\n",
       "      <th>Bathroom</th>\n",
       "      <th>Security</th>\n",
       "      <th>BHK</th>\n",
       "      <th>Type</th>\n",
       "      <th>Parking</th>\n",
       "      <th>Age_Building</th>\n",
       "      <th>Balcony</th>\n",
       "      <th>Rent</th>\n",
       "    </tr>\n",
       "  </thead>\n",
       "  <tbody>\n",
       "    <tr>\n",
       "      <td>0</td>\n",
       "      <td>2 BHK For Rent in Emmanuel Apartment, Shapur Baug</td>\n",
       "      <td>Mumbai</td>\n",
       "      <td>939</td>\n",
       "      <td>9,00,000</td>\n",
       "      <td>Full</td>\n",
       "      <td>East</td>\n",
       "      <td>Corporation</td>\n",
       "      <td>05-Jul</td>\n",
       "      <td>2</td>\n",
       "      <td>Yes</td>\n",
       "      <td>2</td>\n",
       "      <td>Apartment</td>\n",
       "      <td>Bike and Car</td>\n",
       "      <td>3-5 Years</td>\n",
       "      <td>NaN</td>\n",
       "      <td>90000</td>\n",
       "    </tr>\n",
       "    <tr>\n",
       "      <td>1</td>\n",
       "      <td>2 BHK For Rent in Gamdevi, Gamdevi Road</td>\n",
       "      <td>Mumbai</td>\n",
       "      <td>900</td>\n",
       "      <td>3,00,000</td>\n",
       "      <td>Unfurnished</td>\n",
       "      <td>North</td>\n",
       "      <td>Corporation</td>\n",
       "      <td>04-Jul</td>\n",
       "      <td>2</td>\n",
       "      <td>Yes</td>\n",
       "      <td>2</td>\n",
       "      <td>Apartment</td>\n",
       "      <td>None</td>\n",
       "      <td>&gt;10 Years</td>\n",
       "      <td>3.0</td>\n",
       "      <td>75000</td>\n",
       "    </tr>\n",
       "    <tr>\n",
       "      <td>2</td>\n",
       "      <td>2 BHK For Rent in Cmg Girnar Tower, Mazgaon</td>\n",
       "      <td>Mumbai</td>\n",
       "      <td>800</td>\n",
       "      <td>5,00,000</td>\n",
       "      <td>Full</td>\n",
       "      <td>East</td>\n",
       "      <td>Corporation</td>\n",
       "      <td>14/17</td>\n",
       "      <td>2</td>\n",
       "      <td>Yes</td>\n",
       "      <td>2</td>\n",
       "      <td>Apartment</td>\n",
       "      <td>Car</td>\n",
       "      <td>&gt;10 Years</td>\n",
       "      <td>NaN</td>\n",
       "      <td>70000</td>\n",
       "    </tr>\n",
       "    <tr>\n",
       "      <td>3</td>\n",
       "      <td>1 BHK For Rent in Hari Krupa , Girgaon</td>\n",
       "      <td>Mumbai</td>\n",
       "      <td>590</td>\n",
       "      <td>60,000</td>\n",
       "      <td>Semi</td>\n",
       "      <td>NaN</td>\n",
       "      <td>NaN</td>\n",
       "      <td>May-25</td>\n",
       "      <td>1</td>\n",
       "      <td>Yes</td>\n",
       "      <td>1</td>\n",
       "      <td>Apartment</td>\n",
       "      <td>None</td>\n",
       "      <td>3-5 Years</td>\n",
       "      <td>NaN</td>\n",
       "      <td>50000</td>\n",
       "    </tr>\n",
       "    <tr>\n",
       "      <td>4</td>\n",
       "      <td>2 BHK For Rent in Abdullah Building, Umerkhadi</td>\n",
       "      <td>Mumbai</td>\n",
       "      <td>750</td>\n",
       "      <td>1,27,500</td>\n",
       "      <td>Semi</td>\n",
       "      <td>West</td>\n",
       "      <td>Corporation</td>\n",
       "      <td>01-Feb</td>\n",
       "      <td>3</td>\n",
       "      <td>No</td>\n",
       "      <td>2</td>\n",
       "      <td>Apartment</td>\n",
       "      <td>None</td>\n",
       "      <td>&gt;10 Years</td>\n",
       "      <td>NaN</td>\n",
       "      <td>42500</td>\n",
       "    </tr>\n",
       "  </tbody>\n",
       "</table>\n",
       "</div>"
      ],
      "text/plain": [
       "                                                Name Location Area   Deposit  \\\n",
       "0  2 BHK For Rent in Emmanuel Apartment, Shapur Baug   Mumbai  939  9,00,000   \n",
       "1            2 BHK For Rent in Gamdevi, Gamdevi Road   Mumbai  900  3,00,000   \n",
       "2        2 BHK For Rent in Cmg Girnar Tower, Mazgaon   Mumbai  800  5,00,000   \n",
       "3             1 BHK For Rent in Hari Krupa , Girgaon   Mumbai  590    60,000   \n",
       "4     2 BHK For Rent in Abdullah Building, Umerkhadi   Mumbai  750  1,27,500   \n",
       "\n",
       "    Furnishing Facing Water_Supply   Floor  Bathroom Security  BHK       Type  \\\n",
       "0         Full   East  Corporation  05-Jul         2      Yes    2  Apartment   \n",
       "1  Unfurnished  North  Corporation  04-Jul         2      Yes    2  Apartment   \n",
       "2         Full   East  Corporation   14/17         2      Yes    2  Apartment   \n",
       "3         Semi    NaN          NaN  May-25         1      Yes    1  Apartment   \n",
       "4         Semi   West  Corporation  01-Feb         3       No    2  Apartment   \n",
       "\n",
       "        Parking Age_Building  Balcony   Rent  \n",
       "0  Bike and Car    3-5 Years      NaN  90000  \n",
       "1          None    >10 Years      3.0  75000  \n",
       "2           Car    >10 Years      NaN  70000  \n",
       "3          None    3-5 Years      NaN  50000  \n",
       "4          None    >10 Years      NaN  42500  "
      ]
     },
     "execution_count": 5,
     "metadata": {},
     "output_type": "execute_result"
    }
   ],
   "source": [
    "df.head()"
   ]
  },
  {
   "cell_type": "code",
   "execution_count": 6,
   "id": "integrated-piano",
   "metadata": {},
   "outputs": [
    {
     "data": {
      "text/html": [
       "<div>\n",
       "<style scoped>\n",
       "    .dataframe tbody tr th:only-of-type {\n",
       "        vertical-align: middle;\n",
       "    }\n",
       "\n",
       "    .dataframe tbody tr th {\n",
       "        vertical-align: top;\n",
       "    }\n",
       "\n",
       "    .dataframe thead th {\n",
       "        text-align: right;\n",
       "    }\n",
       "</style>\n",
       "<table border=\"1\" class=\"dataframe\">\n",
       "  <thead>\n",
       "    <tr style=\"text-align: right;\">\n",
       "      <th></th>\n",
       "      <th>Name</th>\n",
       "      <th>Location</th>\n",
       "      <th>Area</th>\n",
       "      <th>Deposit</th>\n",
       "      <th>Furnishing</th>\n",
       "      <th>Facing</th>\n",
       "      <th>Water_Supply</th>\n",
       "      <th>Floor</th>\n",
       "      <th>Bathroom</th>\n",
       "      <th>Security</th>\n",
       "      <th>BHK</th>\n",
       "      <th>Type</th>\n",
       "      <th>Parking</th>\n",
       "      <th>Age_Building</th>\n",
       "      <th>Balcony</th>\n",
       "      <th>Rent</th>\n",
       "    </tr>\n",
       "  </thead>\n",
       "  <tbody>\n",
       "    <tr>\n",
       "      <td>11139</td>\n",
       "      <td>1 RK For Rent in Standalone Building , Ballabh...</td>\n",
       "      <td>faridabad</td>\n",
       "      <td>250</td>\n",
       "      <td>2,000</td>\n",
       "      <td>Unfurnished</td>\n",
       "      <td>NaN</td>\n",
       "      <td>NaN</td>\n",
       "      <td>0/2</td>\n",
       "      <td>1</td>\n",
       "      <td>No</td>\n",
       "      <td>1</td>\n",
       "      <td>Apartment</td>\n",
       "      <td>Bike and Car</td>\n",
       "      <td>5-10 Years</td>\n",
       "      <td>NaN</td>\n",
       "      <td>2000</td>\n",
       "    </tr>\n",
       "    <tr>\n",
       "      <td>11140</td>\n",
       "      <td>1 RK For Rent in Dheeraj Nagar, Atmadpur Village</td>\n",
       "      <td>faridabad</td>\n",
       "      <td>160</td>\n",
       "      <td>2,000</td>\n",
       "      <td>Full</td>\n",
       "      <td>North</td>\n",
       "      <td>Borewell</td>\n",
       "      <td>0/0</td>\n",
       "      <td>1</td>\n",
       "      <td>No</td>\n",
       "      <td>1</td>\n",
       "      <td>Independent House/villa</td>\n",
       "      <td>Bike and Car</td>\n",
       "      <td>5-10 Years</td>\n",
       "      <td>1.0</td>\n",
       "      <td>2000</td>\n",
       "    </tr>\n",
       "    <tr>\n",
       "      <td>11141</td>\n",
       "      <td>3 BHK For Rent in Ashoka Enclave Part Ii</td>\n",
       "      <td>faridabad</td>\n",
       "      <td>1,800</td>\n",
       "      <td>36,000</td>\n",
       "      <td>Unfurnished</td>\n",
       "      <td>North-East</td>\n",
       "      <td>Corporation</td>\n",
       "      <td>01-Mar</td>\n",
       "      <td>3</td>\n",
       "      <td>Yes</td>\n",
       "      <td>3</td>\n",
       "      <td>Independent House/villa</td>\n",
       "      <td>Bike and Car</td>\n",
       "      <td>5-10 Years</td>\n",
       "      <td>2.0</td>\n",
       "      <td>1800</td>\n",
       "    </tr>\n",
       "    <tr>\n",
       "      <td>11142</td>\n",
       "      <td>3 BHK For Rent in Puri Pratham, Sector 84</td>\n",
       "      <td>faridabad</td>\n",
       "      <td>1,400</td>\n",
       "      <td>14,000</td>\n",
       "      <td>Unfurnished</td>\n",
       "      <td>East</td>\n",
       "      <td>Both</td>\n",
       "      <td>01-Oct</td>\n",
       "      <td>3</td>\n",
       "      <td>Yes</td>\n",
       "      <td>3</td>\n",
       "      <td>Apartment</td>\n",
       "      <td>Bike and Car</td>\n",
       "      <td>1-3 Years</td>\n",
       "      <td>2.0</td>\n",
       "      <td>0</td>\n",
       "    </tr>\n",
       "    <tr>\n",
       "      <td>11143</td>\n",
       "      <td>2 BHK For Rent in Jawahar Colony</td>\n",
       "      <td>faridabad</td>\n",
       "      <td>900</td>\n",
       "      <td>5,00,000</td>\n",
       "      <td>Unfurnished</td>\n",
       "      <td>NaN</td>\n",
       "      <td>NaN</td>\n",
       "      <td>0/1</td>\n",
       "      <td>2</td>\n",
       "      <td>No</td>\n",
       "      <td>2</td>\n",
       "      <td>Independent House/villa</td>\n",
       "      <td>Bike</td>\n",
       "      <td>3-5 Years</td>\n",
       "      <td>NaN</td>\n",
       "      <td>NaN</td>\n",
       "    </tr>\n",
       "  </tbody>\n",
       "</table>\n",
       "</div>"
      ],
      "text/plain": [
       "                                                    Name   Location   Area  \\\n",
       "11139  1 RK For Rent in Standalone Building , Ballabh...  faridabad    250   \n",
       "11140   1 RK For Rent in Dheeraj Nagar, Atmadpur Village  faridabad    160   \n",
       "11141           3 BHK For Rent in Ashoka Enclave Part Ii  faridabad  1,800   \n",
       "11142          3 BHK For Rent in Puri Pratham, Sector 84  faridabad  1,400   \n",
       "11143                   2 BHK For Rent in Jawahar Colony  faridabad    900   \n",
       "\n",
       "        Deposit   Furnishing      Facing Water_Supply   Floor  Bathroom  \\\n",
       "11139     2,000  Unfurnished         NaN          NaN     0/2         1   \n",
       "11140     2,000         Full       North     Borewell     0/0         1   \n",
       "11141    36,000  Unfurnished  North-East  Corporation  01-Mar         3   \n",
       "11142    14,000  Unfurnished        East         Both  01-Oct         3   \n",
       "11143  5,00,000  Unfurnished         NaN          NaN     0/1         2   \n",
       "\n",
       "      Security  BHK                     Type       Parking Age_Building  \\\n",
       "11139       No    1                Apartment  Bike and Car   5-10 Years   \n",
       "11140       No    1  Independent House/villa  Bike and Car   5-10 Years   \n",
       "11141      Yes    3  Independent House/villa  Bike and Car   5-10 Years   \n",
       "11142      Yes    3                Apartment  Bike and Car    1-3 Years   \n",
       "11143       No    2  Independent House/villa          Bike    3-5 Years   \n",
       "\n",
       "       Balcony  Rent  \n",
       "11139      NaN  2000  \n",
       "11140      1.0  2000  \n",
       "11141      2.0  1800  \n",
       "11142      2.0     0  \n",
       "11143      NaN   NaN  "
      ]
     },
     "execution_count": 6,
     "metadata": {},
     "output_type": "execute_result"
    }
   ],
   "source": [
    "df.tail()"
   ]
  },
  {
   "cell_type": "code",
   "execution_count": 7,
   "id": "pacific-heading",
   "metadata": {},
   "outputs": [
    {
     "data": {
      "text/plain": [
       "(11144, 16)"
      ]
     },
     "execution_count": 7,
     "metadata": {},
     "output_type": "execute_result"
    }
   ],
   "source": [
    "df.shape\n",
    "## In Total i have 11144 observation with 16 different features"
   ]
  },
  {
   "cell_type": "code",
   "execution_count": 8,
   "id": "reflected-summit",
   "metadata": {},
   "outputs": [
    {
     "name": "stdout",
     "output_type": "stream",
     "text": [
      "<class 'pandas.core.frame.DataFrame'>\n",
      "RangeIndex: 11144 entries, 0 to 11143\n",
      "Data columns (total 16 columns):\n",
      "Name            11144 non-null object\n",
      "Location        11144 non-null object\n",
      "Area            11144 non-null object\n",
      "Deposit         11144 non-null object\n",
      "Furnishing      11144 non-null object\n",
      "Facing          7687 non-null object\n",
      "Water_Supply    8522 non-null object\n",
      "Floor           11144 non-null object\n",
      "Bathroom        11144 non-null int64\n",
      "Security        11140 non-null object\n",
      "BHK             11144 non-null int64\n",
      "Type            11144 non-null object\n",
      "Parking         11144 non-null object\n",
      "Age_Building    11144 non-null object\n",
      "Balcony         6532 non-null float64\n",
      "Rent            11114 non-null object\n",
      "dtypes: float64(1), int64(2), object(13)\n",
      "memory usage: 1.4+ MB\n"
     ]
    }
   ],
   "source": [
    "df.info()"
   ]
  },
  {
   "cell_type": "code",
   "execution_count": 9,
   "id": "harmful-beatles",
   "metadata": {
    "scrolled": true
   },
   "outputs": [
    {
     "data": {
      "text/plain": [
       "array(['Mumbai', 'mumbai', 'Banglore', 'banglore', 'chennai', 'delhi',\n",
       "       'gurgaon', 'ghaziabad', 'pune', 'hyderabad', 'noida', 'faridabad'],\n",
       "      dtype=object)"
      ]
     },
     "execution_count": 9,
     "metadata": {},
     "output_type": "execute_result"
    }
   ],
   "source": [
    "df.Location.unique()"
   ]
  },
  {
   "cell_type": "code",
   "execution_count": 10,
   "id": "norman-aruba",
   "metadata": {},
   "outputs": [
    {
     "data": {
      "text/plain": [
       "Name               0\n",
       "Location           0\n",
       "Area               0\n",
       "Deposit            0\n",
       "Furnishing         0\n",
       "Facing          3457\n",
       "Water_Supply    2622\n",
       "Floor              0\n",
       "Bathroom           0\n",
       "Security           4\n",
       "BHK                0\n",
       "Type               0\n",
       "Parking            0\n",
       "Age_Building       0\n",
       "Balcony         4612\n",
       "Rent              30\n",
       "dtype: int64"
      ]
     },
     "execution_count": 10,
     "metadata": {},
     "output_type": "execute_result"
    }
   ],
   "source": [
    "df.isnull().sum()\n",
    "## Here we can see the feature wise null values in the dataset"
   ]
  },
  {
   "cell_type": "code",
   "execution_count": 11,
   "id": "macro-perth",
   "metadata": {},
   "outputs": [],
   "source": [
    "### The data type of the Rent is object which i have converted into Numeric.\n",
    "\n",
    "df.Rent = pd.to_numeric(df['Rent'], errors='coerce')"
   ]
  },
  {
   "cell_type": "code",
   "execution_count": 12,
   "id": "published-haven",
   "metadata": {},
   "outputs": [],
   "source": [
    "df.replace(',','', regex=True, inplace=True)"
   ]
  },
  {
   "cell_type": "code",
   "execution_count": 13,
   "id": "convinced-making",
   "metadata": {},
   "outputs": [],
   "source": [
    "df.Deposit = pd.to_numeric(df.Deposit)\n",
    "df.Area = pd.to_numeric(df.Area)"
   ]
  },
  {
   "cell_type": "code",
   "execution_count": 14,
   "id": "reduced-chuck",
   "metadata": {},
   "outputs": [
    {
     "data": {
      "text/html": [
       "<div>\n",
       "<style scoped>\n",
       "    .dataframe tbody tr th:only-of-type {\n",
       "        vertical-align: middle;\n",
       "    }\n",
       "\n",
       "    .dataframe tbody tr th {\n",
       "        vertical-align: top;\n",
       "    }\n",
       "\n",
       "    .dataframe thead th {\n",
       "        text-align: right;\n",
       "    }\n",
       "</style>\n",
       "<table border=\"1\" class=\"dataframe\">\n",
       "  <thead>\n",
       "    <tr style=\"text-align: right;\">\n",
       "      <th></th>\n",
       "      <th>Area</th>\n",
       "      <th>Deposit</th>\n",
       "      <th>Bathroom</th>\n",
       "      <th>BHK</th>\n",
       "      <th>Balcony</th>\n",
       "      <th>Rent</th>\n",
       "    </tr>\n",
       "  </thead>\n",
       "  <tbody>\n",
       "    <tr>\n",
       "      <td>count</td>\n",
       "      <td>11144.000000</td>\n",
       "      <td>11144.000000</td>\n",
       "      <td>11144.000000</td>\n",
       "      <td>11144.000000</td>\n",
       "      <td>6532.000000</td>\n",
       "      <td>11107.000000</td>\n",
       "    </tr>\n",
       "    <tr>\n",
       "      <td>mean</td>\n",
       "      <td>960.919060</td>\n",
       "      <td>74900.181174</td>\n",
       "      <td>1.799623</td>\n",
       "      <td>1.895280</td>\n",
       "      <td>1.684936</td>\n",
       "      <td>19851.885388</td>\n",
       "    </tr>\n",
       "    <tr>\n",
       "      <td>std</td>\n",
       "      <td>647.293640</td>\n",
       "      <td>149547.929404</td>\n",
       "      <td>0.886220</td>\n",
       "      <td>0.797487</td>\n",
       "      <td>2.646984</td>\n",
       "      <td>26042.763370</td>\n",
       "    </tr>\n",
       "    <tr>\n",
       "      <td>min</td>\n",
       "      <td>55.000000</td>\n",
       "      <td>1.000000</td>\n",
       "      <td>1.000000</td>\n",
       "      <td>1.000000</td>\n",
       "      <td>1.000000</td>\n",
       "      <td>0.000000</td>\n",
       "    </tr>\n",
       "    <tr>\n",
       "      <td>25%</td>\n",
       "      <td>550.000000</td>\n",
       "      <td>20000.000000</td>\n",
       "      <td>1.000000</td>\n",
       "      <td>1.000000</td>\n",
       "      <td>1.000000</td>\n",
       "      <td>10000.000000</td>\n",
       "    </tr>\n",
       "    <tr>\n",
       "      <td>50%</td>\n",
       "      <td>900.000000</td>\n",
       "      <td>50000.000000</td>\n",
       "      <td>2.000000</td>\n",
       "      <td>2.000000</td>\n",
       "      <td>1.000000</td>\n",
       "      <td>15500.000000</td>\n",
       "    </tr>\n",
       "    <tr>\n",
       "      <td>75%</td>\n",
       "      <td>1200.000000</td>\n",
       "      <td>90000.000000</td>\n",
       "      <td>2.000000</td>\n",
       "      <td>2.000000</td>\n",
       "      <td>2.000000</td>\n",
       "      <td>24000.000000</td>\n",
       "    </tr>\n",
       "    <tr>\n",
       "      <td>max</td>\n",
       "      <td>20000.000000</td>\n",
       "      <td>4800000.000000</td>\n",
       "      <td>28.000000</td>\n",
       "      <td>4.000000</td>\n",
       "      <td>204.000000</td>\n",
       "      <td>1500000.000000</td>\n",
       "    </tr>\n",
       "  </tbody>\n",
       "</table>\n",
       "</div>"
      ],
      "text/plain": [
       "              Area        Deposit     Bathroom          BHK     Balcony  \\\n",
       "count 11144.000000   11144.000000 11144.000000 11144.000000 6532.000000   \n",
       "mean    960.919060   74900.181174     1.799623     1.895280    1.684936   \n",
       "std     647.293640  149547.929404     0.886220     0.797487    2.646984   \n",
       "min      55.000000       1.000000     1.000000     1.000000    1.000000   \n",
       "25%     550.000000   20000.000000     1.000000     1.000000    1.000000   \n",
       "50%     900.000000   50000.000000     2.000000     2.000000    1.000000   \n",
       "75%    1200.000000   90000.000000     2.000000     2.000000    2.000000   \n",
       "max   20000.000000 4800000.000000    28.000000     4.000000  204.000000   \n",
       "\n",
       "                Rent  \n",
       "count   11107.000000  \n",
       "mean    19851.885388  \n",
       "std     26042.763370  \n",
       "min         0.000000  \n",
       "25%     10000.000000  \n",
       "50%     15500.000000  \n",
       "75%     24000.000000  \n",
       "max   1500000.000000  "
      ]
     },
     "execution_count": 14,
     "metadata": {},
     "output_type": "execute_result"
    }
   ],
   "source": [
    "pd.set_option('float_format', '{:f}'.format)\n",
    "df.describe()"
   ]
  },
  {
   "cell_type": "code",
   "execution_count": 15,
   "id": "intense-measurement",
   "metadata": {},
   "outputs": [
    {
     "data": {
      "text/plain": [
       "37"
      ]
     },
     "execution_count": 15,
     "metadata": {},
     "output_type": "execute_result"
    }
   ],
   "source": [
    "df.Rent.isnull().sum()\n",
    "# After converting the feature into numeric form we have 37 null values."
   ]
  },
  {
   "cell_type": "code",
   "execution_count": 16,
   "id": "confirmed-narrative",
   "metadata": {},
   "outputs": [
    {
     "data": {
      "text/plain": [
       "48"
      ]
     },
     "execution_count": 16,
     "metadata": {},
     "output_type": "execute_result"
    }
   ],
   "source": [
    "rent_null = df.loc[(df['Rent'].isnull()) | (df['Rent']==0)]\n",
    "len(rent_null)\n",
    "# I have created different dataframe for the observation in which rent has null values and 'ZERO' as values."
   ]
  },
  {
   "cell_type": "code",
   "execution_count": 17,
   "id": "daily-creation",
   "metadata": {},
   "outputs": [
    {
     "data": {
      "text/plain": [
       "Int64Index([   25,   417,   418,  1010,  2214,  2215,  2302,  2313,  2394,\n",
       "             2479,  2573,  2605,  2801,  2802,  2807,  2871,  2937,  2944,\n",
       "             2963,  2985,  3014,  3040,  4196,  4208,  4223,  4245,  4347,\n",
       "             4389,  4396,  4419,  4478,  4575,  4805,  4813,  4823,  5446,\n",
       "             5518,  5740,  5961,  6916,  6918,  8016,  9095,  9196,  9201,\n",
       "             9499, 11142, 11143],\n",
       "           dtype='int64')"
      ]
     },
     "execution_count": 17,
     "metadata": {},
     "output_type": "execute_result"
    }
   ],
   "source": [
    "rent_null.index"
   ]
  },
  {
   "cell_type": "code",
   "execution_count": 18,
   "id": "informative-friend",
   "metadata": {},
   "outputs": [],
   "source": [
    "new_df = df.drop(rent_null.index,axis=0)\n",
    "## Based on the index Number of rent_null dataframe i have remove the observation with null and 0 values."
   ]
  },
  {
   "cell_type": "code",
   "execution_count": 19,
   "id": "buried-fabric",
   "metadata": {},
   "outputs": [
    {
     "data": {
      "text/plain": [
       "0"
      ]
     },
     "execution_count": 19,
     "metadata": {},
     "output_type": "execute_result"
    }
   ],
   "source": [
    "new_df.Rent.isnull().sum()"
   ]
  },
  {
   "cell_type": "code",
   "execution_count": 20,
   "id": "selective-mortgage",
   "metadata": {},
   "outputs": [
    {
     "data": {
      "text/plain": [
       "array(['Mumbai', 'mumbai', 'Banglore', 'banglore', 'chennai', 'delhi',\n",
       "       'gurgaon', 'ghaziabad', 'pune', 'hyderabad', 'noida', 'faridabad'],\n",
       "      dtype=object)"
      ]
     },
     "execution_count": 20,
     "metadata": {},
     "output_type": "execute_result"
    }
   ],
   "source": [
    "new_df.Location.unique()"
   ]
  },
  {
   "cell_type": "code",
   "execution_count": 21,
   "id": "parallel-shark",
   "metadata": {},
   "outputs": [],
   "source": [
    "new_df.Location = new_df.Location.str.lower()\n",
    "## converting the column in lower case as we have different values in the features."
   ]
  },
  {
   "cell_type": "code",
   "execution_count": 22,
   "id": "above-washington",
   "metadata": {},
   "outputs": [
    {
     "data": {
      "text/plain": [
       "chennai      1839\n",
       "banglore     1746\n",
       "pune         1367\n",
       "mumbai       1322\n",
       "delhi        1141\n",
       "ghaziabad    1098\n",
       "hyderabad     938\n",
       "gurgaon       829\n",
       "faridabad     645\n",
       "noida         171\n",
       "Name: Location, dtype: int64"
      ]
     },
     "execution_count": 22,
     "metadata": {},
     "output_type": "execute_result"
    }
   ],
   "source": [
    "new_df.Location.value_counts()"
   ]
  },
  {
   "cell_type": "code",
   "execution_count": 23,
   "id": "ordinary-vehicle",
   "metadata": {},
   "outputs": [
    {
     "data": {
      "text/plain": [
       "Index(['Name', 'Location', 'Area', 'Deposit', 'Furnishing', 'Facing',\n",
       "       'Water_Supply', 'Floor', 'Bathroom', 'Security', 'BHK', 'Type',\n",
       "       'Parking', 'Age_Building', 'Balcony', 'Rent'],\n",
       "      dtype='object')"
      ]
     },
     "execution_count": 23,
     "metadata": {},
     "output_type": "execute_result"
    }
   ],
   "source": [
    "new_df.columns"
   ]
  },
  {
   "cell_type": "code",
   "execution_count": 24,
   "id": "thorough-chair",
   "metadata": {},
   "outputs": [
    {
     "data": {
      "text/plain": [
       "02-Feb    899\n",
       "01-Feb    803\n",
       "02-Mar    619\n",
       "03-Mar    584\n",
       "0/2       538\n",
       "         ... \n",
       "27/32       1\n",
       "Oct-29      1\n",
       "14/16       1\n",
       "Mar-23      1\n",
       "20/26       1\n",
       "Name: Floor, Length: 428, dtype: int64"
      ]
     },
     "execution_count": 24,
     "metadata": {},
     "output_type": "execute_result"
    }
   ],
   "source": [
    "new_df.Floor.value_counts()"
   ]
  },
  {
   "cell_type": "code",
   "execution_count": 25,
   "id": "alternate-spokesman",
   "metadata": {},
   "outputs": [],
   "source": [
    "new_df.drop('Floor',inplace =True,axis=1)\n",
    "## Floor have date instead of floor information"
   ]
  },
  {
   "cell_type": "code",
   "execution_count": 26,
   "id": "ignored-rating",
   "metadata": {},
   "outputs": [],
   "source": [
    "new_df.Balcony.fillna(0,inplace=True)\n",
    "\n",
    "## Replacing NAN values with zero as the Apt does not have balcony"
   ]
  },
  {
   "cell_type": "code",
   "execution_count": 27,
   "id": "spiritual-talent",
   "metadata": {},
   "outputs": [
    {
     "data": {
      "text/plain": [
       "0.000000      4588\n",
       "1.000000      3494\n",
       "2.000000      2058\n",
       "3.000000       727\n",
       "4.000000       183\n",
       "5.000000        35\n",
       "6.000000         7\n",
       "13.000000        1\n",
       "9.000000         1\n",
       "204.000000       1\n",
       "8.000000         1\n",
       "Name: Balcony, dtype: int64"
      ]
     },
     "execution_count": 27,
     "metadata": {},
     "output_type": "execute_result"
    }
   ],
   "source": [
    "new_df.Balcony.value_counts()"
   ]
  },
  {
   "cell_type": "code",
   "execution_count": 33,
   "id": "parliamentary-pixel",
   "metadata": {},
   "outputs": [],
   "source": [
    "new_df['Balcony']=new_df['Balcony'].astype(int)"
   ]
  },
  {
   "cell_type": "code",
   "execution_count": 28,
   "id": "level-stocks",
   "metadata": {},
   "outputs": [
    {
     "data": {
      "text/html": [
       "<div>\n",
       "<style scoped>\n",
       "    .dataframe tbody tr th:only-of-type {\n",
       "        vertical-align: middle;\n",
       "    }\n",
       "\n",
       "    .dataframe tbody tr th {\n",
       "        vertical-align: top;\n",
       "    }\n",
       "\n",
       "    .dataframe thead th {\n",
       "        text-align: right;\n",
       "    }\n",
       "</style>\n",
       "<table border=\"1\" class=\"dataframe\">\n",
       "  <thead>\n",
       "    <tr style=\"text-align: right;\">\n",
       "      <th></th>\n",
       "      <th>Name</th>\n",
       "      <th>Location</th>\n",
       "      <th>Area</th>\n",
       "      <th>Deposit</th>\n",
       "      <th>Furnishing</th>\n",
       "      <th>Facing</th>\n",
       "      <th>Water_Supply</th>\n",
       "      <th>Bathroom</th>\n",
       "      <th>Security</th>\n",
       "      <th>BHK</th>\n",
       "      <th>Type</th>\n",
       "      <th>Parking</th>\n",
       "      <th>Age_Building</th>\n",
       "      <th>Balcony</th>\n",
       "      <th>Rent</th>\n",
       "    </tr>\n",
       "  </thead>\n",
       "  <tbody>\n",
       "    <tr>\n",
       "      <td>9089</td>\n",
       "      <td>1 BHK For Rent in Asha Dreams Apartment Asha D...</td>\n",
       "      <td>pune</td>\n",
       "      <td>502</td>\n",
       "      <td>15000</td>\n",
       "      <td>Semi</td>\n",
       "      <td>NaN</td>\n",
       "      <td>Corporation</td>\n",
       "      <td>1</td>\n",
       "      <td>No</td>\n",
       "      <td>1</td>\n",
       "      <td>Apartment</td>\n",
       "      <td>Bike</td>\n",
       "      <td>3-5 Years</td>\n",
       "      <td>204.000000</td>\n",
       "      <td>9000.000000</td>\n",
       "    </tr>\n",
       "  </tbody>\n",
       "</table>\n",
       "</div>"
      ],
      "text/plain": [
       "                                                   Name Location  Area  \\\n",
       "9089  1 BHK For Rent in Asha Dreams Apartment Asha D...     pune   502   \n",
       "\n",
       "      Deposit Furnishing Facing Water_Supply  Bathroom Security  BHK  \\\n",
       "9089    15000       Semi    NaN  Corporation         1       No    1   \n",
       "\n",
       "           Type Parking Age_Building    Balcony        Rent  \n",
       "9089  Apartment    Bike    3-5 Years 204.000000 9000.000000  "
      ]
     },
     "execution_count": 28,
     "metadata": {},
     "output_type": "execute_result"
    }
   ],
   "source": [
    "new_df.loc[new_df.Balcony==204] \n",
    "## The balcony in the following apt is more than usual."
   ]
  },
  {
   "cell_type": "code",
   "execution_count": 29,
   "id": "eastern-gibraltar",
   "metadata": {},
   "outputs": [],
   "source": [
    "new_df.loc[(new_df.Balcony==204),'Balcony'] = 1\n",
    "# The 1 bhk apt have only 1 balcony."
   ]
  },
  {
   "cell_type": "code",
   "execution_count": 30,
   "id": "specified-stomach",
   "metadata": {},
   "outputs": [
    {
     "data": {
      "text/plain": [
       "chennai      1839\n",
       "banglore     1746\n",
       "pune         1367\n",
       "mumbai       1322\n",
       "delhi        1141\n",
       "ghaziabad    1098\n",
       "hyderabad     938\n",
       "gurgaon       829\n",
       "faridabad     645\n",
       "noida         171\n",
       "Name: Location, dtype: int64"
      ]
     },
     "execution_count": 30,
     "metadata": {},
     "output_type": "execute_result"
    }
   ],
   "source": [
    "new_df.Location.value_counts()"
   ]
  },
  {
   "cell_type": "code",
   "execution_count": 31,
   "id": "another-settle",
   "metadata": {},
   "outputs": [
    {
     "data": {
      "text/plain": [
       "Semi           6168\n",
       "Unfurnished    3231\n",
       "Full           1697\n",
       "Name: Furnishing, dtype: int64"
      ]
     },
     "execution_count": 31,
     "metadata": {},
     "output_type": "execute_result"
    }
   ],
   "source": [
    "new_df.Furnishing.value_counts()"
   ]
  },
  {
   "cell_type": "code",
   "execution_count": 34,
   "id": "consolidated-firmware",
   "metadata": {},
   "outputs": [
    {
     "data": {
      "text/plain": [
       "East          3000\n",
       "North         1487\n",
       "West          1073\n",
       "South          634\n",
       "North-East     543\n",
       "Don't Know     533\n",
       "South-East     172\n",
       "North-West     129\n",
       "South-West      86\n",
       "Name: Facing, dtype: int64"
      ]
     },
     "execution_count": 34,
     "metadata": {},
     "output_type": "execute_result"
    }
   ],
   "source": [
    "new_df.Facing.value_counts()"
   ]
  },
  {
   "cell_type": "code",
   "execution_count": 35,
   "id": "endless-bridal",
   "metadata": {},
   "outputs": [
    {
     "data": {
      "text/plain": [
       "Both           3804\n",
       "Corporation    3246\n",
       "Borewell       1440\n",
       "Name: Water_Supply, dtype: int64"
      ]
     },
     "execution_count": 35,
     "metadata": {},
     "output_type": "execute_result"
    }
   ],
   "source": [
    "new_df.Water_Supply.value_counts()"
   ]
  },
  {
   "cell_type": "code",
   "execution_count": 36,
   "id": "palestinian-nelson",
   "metadata": {},
   "outputs": [
    {
     "data": {
      "text/plain": [
       "2     5090\n",
       "1     4348\n",
       "3     1393\n",
       "4      184\n",
       "5       46\n",
       "6       12\n",
       "8        9\n",
       "7        6\n",
       "15       2\n",
       "10       2\n",
       "28       1\n",
       "20       1\n",
       "12       1\n",
       "9        1\n",
       "Name: Bathroom, dtype: int64"
      ]
     },
     "execution_count": 36,
     "metadata": {},
     "output_type": "execute_result"
    }
   ],
   "source": [
    "new_df.Bathroom.value_counts()"
   ]
  },
  {
   "cell_type": "code",
   "execution_count": 37,
   "id": "specialized-parallel",
   "metadata": {},
   "outputs": [
    {
     "data": {
      "text/plain": [
       "Yes    6067\n",
       "No     5026\n",
       "Name: Security, dtype: int64"
      ]
     },
     "execution_count": 37,
     "metadata": {},
     "output_type": "execute_result"
    }
   ],
   "source": [
    "new_df.Security.value_counts()"
   ]
  },
  {
   "cell_type": "code",
   "execution_count": 38,
   "id": "conditional-cincinnati",
   "metadata": {},
   "outputs": [
    {
     "data": {
      "text/plain": [
       "2    4722\n",
       "1    3896\n",
       "3    2211\n",
       "4     267\n",
       "Name: BHK, dtype: int64"
      ]
     },
     "execution_count": 38,
     "metadata": {},
     "output_type": "execute_result"
    }
   ],
   "source": [
    "new_df.BHK.value_counts()"
   ]
  },
  {
   "cell_type": "code",
   "execution_count": 39,
   "id": "dramatic-storm",
   "metadata": {},
   "outputs": [
    {
     "data": {
      "text/plain": [
       "Apartment                          8821\n",
       "Independent House/villa            2122\n",
       "Gated Community                     104\n",
       "Independent Floor/builder Floor      49\n",
       "Name: Type, dtype: int64"
      ]
     },
     "execution_count": 39,
     "metadata": {},
     "output_type": "execute_result"
    }
   ],
   "source": [
    "new_df.Type.value_counts()"
   ]
  },
  {
   "cell_type": "code",
   "execution_count": 40,
   "id": "voluntary-solid",
   "metadata": {},
   "outputs": [
    {
     "data": {
      "text/plain": [
       "Bike and Car    5826\n",
       "Bike            3241\n",
       "None            1114\n",
       "Car              915\n",
       "Name: Parking, dtype: int64"
      ]
     },
     "execution_count": 40,
     "metadata": {},
     "output_type": "execute_result"
    }
   ],
   "source": [
    "new_df.Parking.value_counts()"
   ]
  },
  {
   "cell_type": "code",
   "execution_count": 41,
   "id": "grave-haven",
   "metadata": {},
   "outputs": [
    {
     "data": {
      "text/plain": [
       "5-10 Years            2937\n",
       ">10 Years             2937\n",
       "3-5 Years             1773\n",
       "1-3 Years             1704\n",
       "Newly Constructed     1683\n",
       "Under Construction      62\n",
       "Name: Age_Building, dtype: int64"
      ]
     },
     "execution_count": 41,
     "metadata": {},
     "output_type": "execute_result"
    }
   ],
   "source": [
    "new_df.Age_Building.value_counts()"
   ]
  },
  {
   "cell_type": "code",
   "execution_count": 42,
   "id": "statistical-above",
   "metadata": {},
   "outputs": [
    {
     "data": {
      "text/plain": [
       "0     4588\n",
       "1     3495\n",
       "2     2058\n",
       "3      727\n",
       "4      183\n",
       "5       35\n",
       "6        7\n",
       "13       1\n",
       "9        1\n",
       "8        1\n",
       "Name: Balcony, dtype: int64"
      ]
     },
     "execution_count": 42,
     "metadata": {},
     "output_type": "execute_result"
    }
   ],
   "source": [
    "new_df.Balcony.value_counts()"
   ]
  },
  {
   "cell_type": "markdown",
   "id": "periodic-offense",
   "metadata": {},
   "source": [
    "### Null value imputation"
   ]
  },
  {
   "cell_type": "code",
   "execution_count": 43,
   "id": "yellow-ethnic",
   "metadata": {
    "scrolled": false
   },
   "outputs": [
    {
     "data": {
      "text/plain": [
       "Name               0\n",
       "Location           0\n",
       "Area               0\n",
       "Deposit            0\n",
       "Furnishing         0\n",
       "Facing          3439\n",
       "Water_Supply    2606\n",
       "Bathroom           0\n",
       "Security           3\n",
       "BHK                0\n",
       "Type               0\n",
       "Parking            0\n",
       "Age_Building       0\n",
       "Balcony            0\n",
       "Rent               0\n",
       "dtype: int64"
      ]
     },
     "execution_count": 43,
     "metadata": {},
     "output_type": "execute_result"
    }
   ],
   "source": [
    "new_df.isnull().sum()"
   ]
  },
  {
   "cell_type": "code",
   "execution_count": 44,
   "id": "married-fireplace",
   "metadata": {},
   "outputs": [
    {
     "data": {
      "text/plain": [
       "array(['East', 'North', \"Don't Know\", 'West', 'North-East', 'South',\n",
       "       'North-West', 'South-West', 'South-East'], dtype=object)"
      ]
     },
     "execution_count": 44,
     "metadata": {},
     "output_type": "execute_result"
    }
   ],
   "source": [
    "new_df.Facing.fillna(\"Don't Know\",inplace=True)\n",
    "new_df.Facing.unique()\n",
    "## Replacing the null Values with the \"Don't Know\""
   ]
  },
  {
   "cell_type": "code",
   "execution_count": 45,
   "id": "former-prime",
   "metadata": {},
   "outputs": [
    {
     "data": {
      "text/plain": [
       "array(['Corporation', nan, 'Borewell', 'Both'], dtype=object)"
      ]
     },
     "execution_count": 45,
     "metadata": {},
     "output_type": "execute_result"
    }
   ],
   "source": [
    "new_df.Water_Supply.unique()"
   ]
  },
  {
   "cell_type": "code",
   "execution_count": 46,
   "id": "another-helen",
   "metadata": {},
   "outputs": [
    {
     "data": {
      "text/html": [
       "<div>\n",
       "<style scoped>\n",
       "    .dataframe tbody tr th:only-of-type {\n",
       "        vertical-align: middle;\n",
       "    }\n",
       "\n",
       "    .dataframe tbody tr th {\n",
       "        vertical-align: top;\n",
       "    }\n",
       "\n",
       "    .dataframe thead th {\n",
       "        text-align: right;\n",
       "    }\n",
       "</style>\n",
       "<table border=\"1\" class=\"dataframe\">\n",
       "  <thead>\n",
       "    <tr style=\"text-align: right;\">\n",
       "      <th></th>\n",
       "      <th>Name</th>\n",
       "      <th>Location</th>\n",
       "      <th>Area</th>\n",
       "      <th>Deposit</th>\n",
       "      <th>Furnishing</th>\n",
       "      <th>Facing</th>\n",
       "      <th>Water_Supply</th>\n",
       "      <th>Bathroom</th>\n",
       "      <th>Security</th>\n",
       "      <th>BHK</th>\n",
       "      <th>Type</th>\n",
       "      <th>Parking</th>\n",
       "      <th>Age_Building</th>\n",
       "      <th>Balcony</th>\n",
       "      <th>Rent</th>\n",
       "    </tr>\n",
       "  </thead>\n",
       "  <tbody>\n",
       "    <tr>\n",
       "      <td>3</td>\n",
       "      <td>1 BHK For Rent in Hari Krupa  Girgaon</td>\n",
       "      <td>mumbai</td>\n",
       "      <td>590</td>\n",
       "      <td>60000</td>\n",
       "      <td>Semi</td>\n",
       "      <td>Don't Know</td>\n",
       "      <td>NaN</td>\n",
       "      <td>1</td>\n",
       "      <td>Yes</td>\n",
       "      <td>1</td>\n",
       "      <td>Apartment</td>\n",
       "      <td>None</td>\n",
       "      <td>3-5 Years</td>\n",
       "      <td>0</td>\n",
       "      <td>50000.000000</td>\n",
       "    </tr>\n",
       "    <tr>\n",
       "      <td>8</td>\n",
       "      <td>2 BHK For Rent in Royal Palms Diamond Isle Pha...</td>\n",
       "      <td>mumbai</td>\n",
       "      <td>750</td>\n",
       "      <td>138000</td>\n",
       "      <td>Unfurnished</td>\n",
       "      <td>Don't Know</td>\n",
       "      <td>NaN</td>\n",
       "      <td>2</td>\n",
       "      <td>Yes</td>\n",
       "      <td>2</td>\n",
       "      <td>Apartment</td>\n",
       "      <td>None</td>\n",
       "      <td>1-3 Years</td>\n",
       "      <td>0</td>\n",
       "      <td>23000.000000</td>\n",
       "    </tr>\n",
       "    <tr>\n",
       "      <td>13</td>\n",
       "      <td>1 BHK For Rent in Pandrowala Manor Mazgaon</td>\n",
       "      <td>mumbai</td>\n",
       "      <td>400</td>\n",
       "      <td>150000</td>\n",
       "      <td>Unfurnished</td>\n",
       "      <td>Don't Know</td>\n",
       "      <td>NaN</td>\n",
       "      <td>1</td>\n",
       "      <td>No</td>\n",
       "      <td>1</td>\n",
       "      <td>Apartment</td>\n",
       "      <td>Bike</td>\n",
       "      <td>&gt;10 Years</td>\n",
       "      <td>0</td>\n",
       "      <td>33000.000000</td>\n",
       "    </tr>\n",
       "    <tr>\n",
       "      <td>19</td>\n",
       "      <td>1 RK For Rent in Lokhandwala Building Nagpada</td>\n",
       "      <td>mumbai</td>\n",
       "      <td>200</td>\n",
       "      <td>50000</td>\n",
       "      <td>Semi</td>\n",
       "      <td>Don't Know</td>\n",
       "      <td>NaN</td>\n",
       "      <td>1</td>\n",
       "      <td>No</td>\n",
       "      <td>1</td>\n",
       "      <td>Apartment</td>\n",
       "      <td>None</td>\n",
       "      <td>&gt;10 Years</td>\n",
       "      <td>0</td>\n",
       "      <td>16000.000000</td>\n",
       "    </tr>\n",
       "    <tr>\n",
       "      <td>21</td>\n",
       "      <td>1 RK For Rent in Godavari Goregaon East</td>\n",
       "      <td>mumbai</td>\n",
       "      <td>226</td>\n",
       "      <td>60000</td>\n",
       "      <td>Semi</td>\n",
       "      <td>Don't Know</td>\n",
       "      <td>NaN</td>\n",
       "      <td>1</td>\n",
       "      <td>No</td>\n",
       "      <td>1</td>\n",
       "      <td>Apartment</td>\n",
       "      <td>None</td>\n",
       "      <td>&gt;10 Years</td>\n",
       "      <td>0</td>\n",
       "      <td>13000.000000</td>\n",
       "    </tr>\n",
       "    <tr>\n",
       "      <td>...</td>\n",
       "      <td>...</td>\n",
       "      <td>...</td>\n",
       "      <td>...</td>\n",
       "      <td>...</td>\n",
       "      <td>...</td>\n",
       "      <td>...</td>\n",
       "      <td>...</td>\n",
       "      <td>...</td>\n",
       "      <td>...</td>\n",
       "      <td>...</td>\n",
       "      <td>...</td>\n",
       "      <td>...</td>\n",
       "      <td>...</td>\n",
       "      <td>...</td>\n",
       "      <td>...</td>\n",
       "    </tr>\n",
       "    <tr>\n",
       "      <td>11134</td>\n",
       "      <td>1 RK For Rent in Standalone Building  Ballabhgarh</td>\n",
       "      <td>faridabad</td>\n",
       "      <td>250</td>\n",
       "      <td>1</td>\n",
       "      <td>Unfurnished</td>\n",
       "      <td>Don't Know</td>\n",
       "      <td>NaN</td>\n",
       "      <td>1</td>\n",
       "      <td>No</td>\n",
       "      <td>1</td>\n",
       "      <td>Apartment</td>\n",
       "      <td>Bike</td>\n",
       "      <td>&gt;10 Years</td>\n",
       "      <td>0</td>\n",
       "      <td>2700.000000</td>\n",
       "    </tr>\n",
       "    <tr>\n",
       "      <td>11135</td>\n",
       "      <td>1 RK For Rent in Sector 87 Neharpar Faridabad</td>\n",
       "      <td>faridabad</td>\n",
       "      <td>150</td>\n",
       "      <td>2500</td>\n",
       "      <td>Unfurnished</td>\n",
       "      <td>Don't Know</td>\n",
       "      <td>NaN</td>\n",
       "      <td>1</td>\n",
       "      <td>No</td>\n",
       "      <td>1</td>\n",
       "      <td>Apartment</td>\n",
       "      <td>Bike</td>\n",
       "      <td>Newly Constructed</td>\n",
       "      <td>0</td>\n",
       "      <td>2500.000000</td>\n",
       "    </tr>\n",
       "    <tr>\n",
       "      <td>11137</td>\n",
       "      <td>1 RK For Rent in Jawahar Colony</td>\n",
       "      <td>faridabad</td>\n",
       "      <td>200</td>\n",
       "      <td>1</td>\n",
       "      <td>Semi</td>\n",
       "      <td>Don't Know</td>\n",
       "      <td>NaN</td>\n",
       "      <td>2</td>\n",
       "      <td>No</td>\n",
       "      <td>1</td>\n",
       "      <td>Apartment</td>\n",
       "      <td>Bike and Car</td>\n",
       "      <td>&gt;10 Years</td>\n",
       "      <td>0</td>\n",
       "      <td>2500.000000</td>\n",
       "    </tr>\n",
       "    <tr>\n",
       "      <td>11138</td>\n",
       "      <td>1 RK For Rent in Parvatiya Colony Jawahar Colony</td>\n",
       "      <td>faridabad</td>\n",
       "      <td>100</td>\n",
       "      <td>2000</td>\n",
       "      <td>Unfurnished</td>\n",
       "      <td>North</td>\n",
       "      <td>NaN</td>\n",
       "      <td>1</td>\n",
       "      <td>No</td>\n",
       "      <td>1</td>\n",
       "      <td>Apartment</td>\n",
       "      <td>Bike</td>\n",
       "      <td>1-3 Years</td>\n",
       "      <td>0</td>\n",
       "      <td>2000.000000</td>\n",
       "    </tr>\n",
       "    <tr>\n",
       "      <td>11139</td>\n",
       "      <td>1 RK For Rent in Standalone Building  Ballabhgarh</td>\n",
       "      <td>faridabad</td>\n",
       "      <td>250</td>\n",
       "      <td>2000</td>\n",
       "      <td>Unfurnished</td>\n",
       "      <td>Don't Know</td>\n",
       "      <td>NaN</td>\n",
       "      <td>1</td>\n",
       "      <td>No</td>\n",
       "      <td>1</td>\n",
       "      <td>Apartment</td>\n",
       "      <td>Bike and Car</td>\n",
       "      <td>5-10 Years</td>\n",
       "      <td>0</td>\n",
       "      <td>2000.000000</td>\n",
       "    </tr>\n",
       "  </tbody>\n",
       "</table>\n",
       "<p>2606 rows × 15 columns</p>\n",
       "</div>"
      ],
      "text/plain": [
       "                                                    Name   Location  Area  \\\n",
       "3                  1 BHK For Rent in Hari Krupa  Girgaon     mumbai   590   \n",
       "8      2 BHK For Rent in Royal Palms Diamond Isle Pha...     mumbai   750   \n",
       "13            1 BHK For Rent in Pandrowala Manor Mazgaon     mumbai   400   \n",
       "19         1 RK For Rent in Lokhandwala Building Nagpada     mumbai   200   \n",
       "21               1 RK For Rent in Godavari Goregaon East     mumbai   226   \n",
       "...                                                  ...        ...   ...   \n",
       "11134  1 RK For Rent in Standalone Building  Ballabhgarh  faridabad   250   \n",
       "11135      1 RK For Rent in Sector 87 Neharpar Faridabad  faridabad   150   \n",
       "11137                    1 RK For Rent in Jawahar Colony  faridabad   200   \n",
       "11138   1 RK For Rent in Parvatiya Colony Jawahar Colony  faridabad   100   \n",
       "11139  1 RK For Rent in Standalone Building  Ballabhgarh  faridabad   250   \n",
       "\n",
       "       Deposit   Furnishing      Facing Water_Supply  Bathroom Security  BHK  \\\n",
       "3        60000         Semi  Don't Know          NaN         1      Yes    1   \n",
       "8       138000  Unfurnished  Don't Know          NaN         2      Yes    2   \n",
       "13      150000  Unfurnished  Don't Know          NaN         1       No    1   \n",
       "19       50000         Semi  Don't Know          NaN         1       No    1   \n",
       "21       60000         Semi  Don't Know          NaN         1       No    1   \n",
       "...        ...          ...         ...          ...       ...      ...  ...   \n",
       "11134        1  Unfurnished  Don't Know          NaN         1       No    1   \n",
       "11135     2500  Unfurnished  Don't Know          NaN         1       No    1   \n",
       "11137        1         Semi  Don't Know          NaN         2       No    1   \n",
       "11138     2000  Unfurnished       North          NaN         1       No    1   \n",
       "11139     2000  Unfurnished  Don't Know          NaN         1       No    1   \n",
       "\n",
       "            Type       Parking       Age_Building  Balcony         Rent  \n",
       "3      Apartment          None          3-5 Years        0 50000.000000  \n",
       "8      Apartment          None          1-3 Years        0 23000.000000  \n",
       "13     Apartment          Bike          >10 Years        0 33000.000000  \n",
       "19     Apartment          None          >10 Years        0 16000.000000  \n",
       "21     Apartment          None          >10 Years        0 13000.000000  \n",
       "...          ...           ...                ...      ...          ...  \n",
       "11134  Apartment          Bike          >10 Years        0  2700.000000  \n",
       "11135  Apartment          Bike  Newly Constructed        0  2500.000000  \n",
       "11137  Apartment  Bike and Car          >10 Years        0  2500.000000  \n",
       "11138  Apartment          Bike          1-3 Years        0  2000.000000  \n",
       "11139  Apartment  Bike and Car         5-10 Years        0  2000.000000  \n",
       "\n",
       "[2606 rows x 15 columns]"
      ]
     },
     "execution_count": 46,
     "metadata": {},
     "output_type": "execute_result"
    }
   ],
   "source": [
    "new_df.loc[new_df.Water_Supply.isnull()]"
   ]
  },
  {
   "cell_type": "code",
   "execution_count": 47,
   "id": "undefined-talent",
   "metadata": {},
   "outputs": [],
   "source": [
    "new_df.Water_Supply.fillna(\"Corporation\",inplace=True)\n",
    "# All the apt have minimum drinking water supplied by the corporation."
   ]
  },
  {
   "cell_type": "code",
   "execution_count": 48,
   "id": "honey-happiness",
   "metadata": {},
   "outputs": [
    {
     "data": {
      "text/plain": [
       "array(['Yes', 'No', nan], dtype=object)"
      ]
     },
     "execution_count": 48,
     "metadata": {},
     "output_type": "execute_result"
    }
   ],
   "source": [
    "new_df.Security.unique()"
   ]
  },
  {
   "cell_type": "code",
   "execution_count": 49,
   "id": "unusual-tomorrow",
   "metadata": {},
   "outputs": [
    {
     "data": {
      "text/html": [
       "<div>\n",
       "<style scoped>\n",
       "    .dataframe tbody tr th:only-of-type {\n",
       "        vertical-align: middle;\n",
       "    }\n",
       "\n",
       "    .dataframe tbody tr th {\n",
       "        vertical-align: top;\n",
       "    }\n",
       "\n",
       "    .dataframe thead th {\n",
       "        text-align: right;\n",
       "    }\n",
       "</style>\n",
       "<table border=\"1\" class=\"dataframe\">\n",
       "  <thead>\n",
       "    <tr style=\"text-align: right;\">\n",
       "      <th></th>\n",
       "      <th>Name</th>\n",
       "      <th>Location</th>\n",
       "      <th>Area</th>\n",
       "      <th>Deposit</th>\n",
       "      <th>Furnishing</th>\n",
       "      <th>Facing</th>\n",
       "      <th>Water_Supply</th>\n",
       "      <th>Bathroom</th>\n",
       "      <th>Security</th>\n",
       "      <th>BHK</th>\n",
       "      <th>Type</th>\n",
       "      <th>Parking</th>\n",
       "      <th>Age_Building</th>\n",
       "      <th>Balcony</th>\n",
       "      <th>Rent</th>\n",
       "    </tr>\n",
       "  </thead>\n",
       "  <tbody>\n",
       "    <tr>\n",
       "      <td>2126</td>\n",
       "      <td>3 BHK For Rent in Gm Heritage Victorian View W...</td>\n",
       "      <td>banglore</td>\n",
       "      <td>1469</td>\n",
       "      <td>150000</td>\n",
       "      <td>Semi</td>\n",
       "      <td>East</td>\n",
       "      <td>Both</td>\n",
       "      <td>2</td>\n",
       "      <td>NaN</td>\n",
       "      <td>3</td>\n",
       "      <td>Apartment</td>\n",
       "      <td>Bike and Car</td>\n",
       "      <td>Newly Constructed</td>\n",
       "      <td>3</td>\n",
       "      <td>22000.000000</td>\n",
       "    </tr>\n",
       "    <tr>\n",
       "      <td>4200</td>\n",
       "      <td>2 BHK For Rent in Pallikaranai</td>\n",
       "      <td>chennai</td>\n",
       "      <td>1200</td>\n",
       "      <td>75000</td>\n",
       "      <td>Semi</td>\n",
       "      <td>East</td>\n",
       "      <td>Both</td>\n",
       "      <td>2</td>\n",
       "      <td>NaN</td>\n",
       "      <td>2</td>\n",
       "      <td>Independent Floor/builder Floor</td>\n",
       "      <td>Bike and Car</td>\n",
       "      <td>1-3 Years</td>\n",
       "      <td>1</td>\n",
       "      <td>15000.000000</td>\n",
       "    </tr>\n",
       "    <tr>\n",
       "      <td>4424</td>\n",
       "      <td>3 BHK For Rent in Annai Garden Medavakkam</td>\n",
       "      <td>chennai</td>\n",
       "      <td>1550</td>\n",
       "      <td>75000</td>\n",
       "      <td>Semi</td>\n",
       "      <td>Don't Know</td>\n",
       "      <td>Corporation</td>\n",
       "      <td>3</td>\n",
       "      <td>NaN</td>\n",
       "      <td>3</td>\n",
       "      <td>Independent House/villa</td>\n",
       "      <td>Bike and Car</td>\n",
       "      <td>Newly Constructed</td>\n",
       "      <td>0</td>\n",
       "      <td>15000.000000</td>\n",
       "    </tr>\n",
       "  </tbody>\n",
       "</table>\n",
       "</div>"
      ],
      "text/plain": [
       "                                                   Name  Location  Area  \\\n",
       "2126  3 BHK For Rent in Gm Heritage Victorian View W...  banglore  1469   \n",
       "4200                     2 BHK For Rent in Pallikaranai   chennai  1200   \n",
       "4424          3 BHK For Rent in Annai Garden Medavakkam   chennai  1550   \n",
       "\n",
       "      Deposit Furnishing      Facing Water_Supply  Bathroom Security  BHK  \\\n",
       "2126   150000       Semi        East         Both         2      NaN    3   \n",
       "4200    75000       Semi        East         Both         2      NaN    2   \n",
       "4424    75000       Semi  Don't Know  Corporation         3      NaN    3   \n",
       "\n",
       "                                 Type       Parking       Age_Building  \\\n",
       "2126                        Apartment  Bike and Car  Newly Constructed   \n",
       "4200  Independent Floor/builder Floor  Bike and Car          1-3 Years   \n",
       "4424          Independent House/villa  Bike and Car  Newly Constructed   \n",
       "\n",
       "      Balcony         Rent  \n",
       "2126        3 22000.000000  \n",
       "4200        1 15000.000000  \n",
       "4424        0 15000.000000  "
      ]
     },
     "execution_count": 49,
     "metadata": {},
     "output_type": "execute_result"
    }
   ],
   "source": [
    "new_df.loc[new_df.Security.isnull()]"
   ]
  },
  {
   "cell_type": "code",
   "execution_count": 50,
   "id": "confirmed-arthritis",
   "metadata": {},
   "outputs": [],
   "source": [
    "new_df.Security.fillna(\"Yes\",inplace=True)\n",
    "## All the 3 observation have the survelliance system. Hence, replacing it with \"Yes\""
   ]
  },
  {
   "cell_type": "code",
   "execution_count": 51,
   "id": "chief-pursuit",
   "metadata": {},
   "outputs": [
    {
     "data": {
      "text/plain": [
       "array(['3-5 Years', '>10 Years', '1-3 Years', '5-10 Years',\n",
       "       'Newly Constructed', 'Under Construction'], dtype=object)"
      ]
     },
     "execution_count": 51,
     "metadata": {},
     "output_type": "execute_result"
    }
   ],
   "source": [
    "new_df.Age_Building.unique()"
   ]
  },
  {
   "cell_type": "markdown",
   "id": "waiting-cornell",
   "metadata": {},
   "source": [
    "### Data Visualisation"
   ]
  },
  {
   "cell_type": "code",
   "execution_count": 52,
   "id": "yellow-niger",
   "metadata": {},
   "outputs": [
    {
     "data": {
      "image/png": "[encoded data removed]",
      "text/plain": [
       "<Figure size 1080x360 with 1 Axes>"
      ]
     },
     "metadata": {
      "needs_background": "light"
     },
     "output_type": "display_data"
    }
   ],
   "source": [
    "plt.figure(figsize=(15,5))\n",
    "sns.distplot(new_df.Rent)\n",
    "plt.show()"
   ]
  },
  {
   "cell_type": "code",
   "execution_count": 53,
   "id": "medical-haven",
   "metadata": {},
   "outputs": [
    {
     "data": {
      "image/png": "[encoded data removed]",
      "text/plain": [
       "<Figure size 432x288 with 1 Axes>"
      ]
     },
     "metadata": {
      "needs_background": "light"
     },
     "output_type": "display_data"
    }
   ],
   "source": [
    "new_df.Rent.plot(kind='box')\n",
    "plt.show()"
   ]
  },
  {
   "cell_type": "code",
   "execution_count": 54,
   "id": "patient-blues",
   "metadata": {},
   "outputs": [
    {
     "data": {
      "image/png": "[encoded data removed]",
      "text/plain": [
       "<Figure size 1080x1080 with 42 Axes>"
      ]
     },
     "metadata": {
      "needs_background": "light"
     },
     "output_type": "display_data"
    }
   ],
   "source": [
    "sns.pairplot(new_df)\n",
    "plt.show()"
   ]
  },
  {
   "cell_type": "code",
   "execution_count": 55,
   "id": "inner-hypothesis",
   "metadata": {
    "scrolled": true
   },
   "outputs": [
    {
     "data": {
      "text/html": [
       "<div>\n",
       "<style scoped>\n",
       "    .dataframe tbody tr th:only-of-type {\n",
       "        vertical-align: middle;\n",
       "    }\n",
       "\n",
       "    .dataframe tbody tr th {\n",
       "        vertical-align: top;\n",
       "    }\n",
       "\n",
       "    .dataframe thead th {\n",
       "        text-align: right;\n",
       "    }\n",
       "</style>\n",
       "<table border=\"1\" class=\"dataframe\">\n",
       "  <thead>\n",
       "    <tr style=\"text-align: right;\">\n",
       "      <th></th>\n",
       "      <th>Area</th>\n",
       "      <th>Deposit</th>\n",
       "      <th>Bathroom</th>\n",
       "      <th>BHK</th>\n",
       "      <th>Balcony</th>\n",
       "      <th>Rent</th>\n",
       "    </tr>\n",
       "  </thead>\n",
       "  <tbody>\n",
       "    <tr>\n",
       "      <td>Area</td>\n",
       "      <td>1.000000</td>\n",
       "      <td>0.353482</td>\n",
       "      <td>0.794710</td>\n",
       "      <td>0.733790</td>\n",
       "      <td>0.394572</td>\n",
       "      <td>0.449321</td>\n",
       "    </tr>\n",
       "    <tr>\n",
       "      <td>Deposit</td>\n",
       "      <td>0.353482</td>\n",
       "      <td>1.000000</td>\n",
       "      <td>0.340349</td>\n",
       "      <td>0.251990</td>\n",
       "      <td>0.153680</td>\n",
       "      <td>0.629030</td>\n",
       "    </tr>\n",
       "    <tr>\n",
       "      <td>Bathroom</td>\n",
       "      <td>0.794710</td>\n",
       "      <td>0.340349</td>\n",
       "      <td>1.000000</td>\n",
       "      <td>0.754976</td>\n",
       "      <td>0.366822</td>\n",
       "      <td>0.435598</td>\n",
       "    </tr>\n",
       "    <tr>\n",
       "      <td>BHK</td>\n",
       "      <td>0.733790</td>\n",
       "      <td>0.251990</td>\n",
       "      <td>0.754976</td>\n",
       "      <td>1.000000</td>\n",
       "      <td>0.398885</td>\n",
       "      <td>0.341706</td>\n",
       "    </tr>\n",
       "    <tr>\n",
       "      <td>Balcony</td>\n",
       "      <td>0.394572</td>\n",
       "      <td>0.153680</td>\n",
       "      <td>0.366822</td>\n",
       "      <td>0.398885</td>\n",
       "      <td>1.000000</td>\n",
       "      <td>0.181608</td>\n",
       "    </tr>\n",
       "    <tr>\n",
       "      <td>Rent</td>\n",
       "      <td>0.449321</td>\n",
       "      <td>0.629030</td>\n",
       "      <td>0.435598</td>\n",
       "      <td>0.341706</td>\n",
       "      <td>0.181608</td>\n",
       "      <td>1.000000</td>\n",
       "    </tr>\n",
       "  </tbody>\n",
       "</table>\n",
       "</div>"
      ],
      "text/plain": [
       "             Area  Deposit  Bathroom      BHK  Balcony     Rent\n",
       "Area     1.000000 0.353482  0.794710 0.733790 0.394572 0.449321\n",
       "Deposit  0.353482 1.000000  0.340349 0.251990 0.153680 0.629030\n",
       "Bathroom 0.794710 0.340349  1.000000 0.754976 0.366822 0.435598\n",
       "BHK      0.733790 0.251990  0.754976 1.000000 0.398885 0.341706\n",
       "Balcony  0.394572 0.153680  0.366822 0.398885 1.000000 0.181608\n",
       "Rent     0.449321 0.629030  0.435598 0.341706 0.181608 1.000000"
      ]
     },
     "execution_count": 55,
     "metadata": {},
     "output_type": "execute_result"
    }
   ],
   "source": [
    "new_df.corr()"
   ]
  },
  {
   "cell_type": "code",
   "execution_count": 56,
   "id": "amber-award",
   "metadata": {},
   "outputs": [
    {
     "data": {
      "image/png": "[encoded data removed]",
      "text/plain": [
       "<Figure size 720x504 with 2 Axes>"
      ]
     },
     "metadata": {
      "needs_background": "light"
     },
     "output_type": "display_data"
    }
   ],
   "source": [
    "plt.figure(figsize=(10,7))\n",
    "ax = sns.heatmap(new_df.corr(),cmap='YlGnBu')\n",
    "bottom, top = ax.get_ylim()\n",
    "ax.set_ylim(bottom + 0.5, top - 0.5)\n",
    "plt.show()"
   ]
  },
  {
   "cell_type": "code",
   "execution_count": 57,
   "id": "committed-coach",
   "metadata": {},
   "outputs": [
    {
     "data": {
      "image/png": "[encoded data removed]",
      "text/plain": [
       "<Figure size 1080x360 with 1 Axes>"
      ]
     },
     "metadata": {
      "needs_background": "light"
     },
     "output_type": "display_data"
    }
   ],
   "source": [
    "## Rent based on Deposit\n",
    "plt.figure(figsize=(15,5))\n",
    "sns.scatterplot(new_df.Deposit,new_df.Rent)\n",
    "plt.show()"
   ]
  },
  {
   "cell_type": "code",
   "execution_count": 58,
   "id": "approved-madagascar",
   "metadata": {},
   "outputs": [
    {
     "data": {
      "image/png": "[encoded data removed]",
      "text/plain": [
       "<Figure size 1080x360 with 1 Axes>"
      ]
     },
     "metadata": {
      "needs_background": "light"
     },
     "output_type": "display_data"
    }
   ],
   "source": [
    "## Rent based on Area\n",
    "plt.figure(figsize=(15,5))\n",
    "sns.scatterplot(new_df.Area,new_df.Rent)\n",
    "plt.show()"
   ]
  },
  {
   "cell_type": "code",
   "execution_count": 59,
   "id": "invisible-genre",
   "metadata": {},
   "outputs": [
    {
     "data": {
      "image/png": "[encoded data removed]",
      "text/plain": [
       "<Figure size 1080x360 with 1 Axes>"
      ]
     },
     "metadata": {
      "needs_background": "light"
     },
     "output_type": "display_data"
    }
   ],
   "source": [
    "## Rent based on BHK\n",
    "plt.figure(figsize=(15,5))\n",
    "sns.barplot(new_df.BHK,new_df.Rent)\n",
    "plt.show()"
   ]
  },
  {
   "cell_type": "code",
   "execution_count": 60,
   "id": "understood-davis",
   "metadata": {},
   "outputs": [
    {
     "data": {
      "image/png": "[encoded data removed]",
      "text/plain": [
       "<Figure size 1080x360 with 1 Axes>"
      ]
     },
     "metadata": {
      "needs_background": "light"
     },
     "output_type": "display_data"
    }
   ],
   "source": [
    "## Rent based on Bathroom\n",
    "plt.figure(figsize=(15,5))\n",
    "sns.barplot(new_df.Bathroom,new_df.Rent)\n",
    "plt.show()"
   ]
  },
  {
   "cell_type": "code",
   "execution_count": 61,
   "id": "younger-ottawa",
   "metadata": {},
   "outputs": [
    {
     "data": {
      "image/png": "[encoded data removed]",
      "text/plain": [
       "<Figure size 1080x360 with 1 Axes>"
      ]
     },
     "metadata": {
      "needs_background": "light"
     },
     "output_type": "display_data"
    }
   ],
   "source": [
    "## Rent based on Balcony\n",
    "plt.figure(figsize=(15,5))\n",
    "sns.barplot(new_df.Balcony,new_df.Rent)\n",
    "plt.show()"
   ]
  },
  {
   "cell_type": "code",
   "execution_count": 62,
   "id": "bizarre-routine",
   "metadata": {},
   "outputs": [
    {
     "data": {
      "text/html": [
       "<div>\n",
       "<style scoped>\n",
       "    .dataframe tbody tr th:only-of-type {\n",
       "        vertical-align: middle;\n",
       "    }\n",
       "\n",
       "    .dataframe tbody tr th {\n",
       "        vertical-align: top;\n",
       "    }\n",
       "\n",
       "    .dataframe thead th {\n",
       "        text-align: right;\n",
       "    }\n",
       "</style>\n",
       "<table border=\"1\" class=\"dataframe\">\n",
       "  <thead>\n",
       "    <tr style=\"text-align: right;\">\n",
       "      <th></th>\n",
       "      <th>Name</th>\n",
       "      <th>Location</th>\n",
       "      <th>Area</th>\n",
       "      <th>Deposit</th>\n",
       "      <th>Furnishing</th>\n",
       "      <th>Facing</th>\n",
       "      <th>Water_Supply</th>\n",
       "      <th>Bathroom</th>\n",
       "      <th>Security</th>\n",
       "      <th>BHK</th>\n",
       "      <th>Type</th>\n",
       "      <th>Parking</th>\n",
       "      <th>Age_Building</th>\n",
       "      <th>Balcony</th>\n",
       "      <th>Rent</th>\n",
       "    </tr>\n",
       "  </thead>\n",
       "  <tbody>\n",
       "    <tr>\n",
       "      <td>0</td>\n",
       "      <td>2 BHK For Rent in Emmanuel Apartment Shapur Baug</td>\n",
       "      <td>mumbai</td>\n",
       "      <td>939</td>\n",
       "      <td>900000</td>\n",
       "      <td>Full</td>\n",
       "      <td>East</td>\n",
       "      <td>Corporation</td>\n",
       "      <td>2</td>\n",
       "      <td>Yes</td>\n",
       "      <td>2</td>\n",
       "      <td>Apartment</td>\n",
       "      <td>Bike and Car</td>\n",
       "      <td>3-5 Years</td>\n",
       "      <td>0</td>\n",
       "      <td>90000.000000</td>\n",
       "    </tr>\n",
       "    <tr>\n",
       "      <td>1</td>\n",
       "      <td>2 BHK For Rent in Gamdevi Gamdevi Road</td>\n",
       "      <td>mumbai</td>\n",
       "      <td>900</td>\n",
       "      <td>300000</td>\n",
       "      <td>Unfurnished</td>\n",
       "      <td>North</td>\n",
       "      <td>Corporation</td>\n",
       "      <td>2</td>\n",
       "      <td>Yes</td>\n",
       "      <td>2</td>\n",
       "      <td>Apartment</td>\n",
       "      <td>None</td>\n",
       "      <td>&gt;10 Years</td>\n",
       "      <td>3</td>\n",
       "      <td>75000.000000</td>\n",
       "    </tr>\n",
       "    <tr>\n",
       "      <td>2</td>\n",
       "      <td>2 BHK For Rent in Cmg Girnar Tower Mazgaon</td>\n",
       "      <td>mumbai</td>\n",
       "      <td>800</td>\n",
       "      <td>500000</td>\n",
       "      <td>Full</td>\n",
       "      <td>East</td>\n",
       "      <td>Corporation</td>\n",
       "      <td>2</td>\n",
       "      <td>Yes</td>\n",
       "      <td>2</td>\n",
       "      <td>Apartment</td>\n",
       "      <td>Car</td>\n",
       "      <td>&gt;10 Years</td>\n",
       "      <td>0</td>\n",
       "      <td>70000.000000</td>\n",
       "    </tr>\n",
       "    <tr>\n",
       "      <td>3</td>\n",
       "      <td>1 BHK For Rent in Hari Krupa  Girgaon</td>\n",
       "      <td>mumbai</td>\n",
       "      <td>590</td>\n",
       "      <td>60000</td>\n",
       "      <td>Semi</td>\n",
       "      <td>Don't Know</td>\n",
       "      <td>Corporation</td>\n",
       "      <td>1</td>\n",
       "      <td>Yes</td>\n",
       "      <td>1</td>\n",
       "      <td>Apartment</td>\n",
       "      <td>None</td>\n",
       "      <td>3-5 Years</td>\n",
       "      <td>0</td>\n",
       "      <td>50000.000000</td>\n",
       "    </tr>\n",
       "    <tr>\n",
       "      <td>4</td>\n",
       "      <td>2 BHK For Rent in Abdullah Building Umerkhadi</td>\n",
       "      <td>mumbai</td>\n",
       "      <td>750</td>\n",
       "      <td>127500</td>\n",
       "      <td>Semi</td>\n",
       "      <td>West</td>\n",
       "      <td>Corporation</td>\n",
       "      <td>3</td>\n",
       "      <td>No</td>\n",
       "      <td>2</td>\n",
       "      <td>Apartment</td>\n",
       "      <td>None</td>\n",
       "      <td>&gt;10 Years</td>\n",
       "      <td>0</td>\n",
       "      <td>42500.000000</td>\n",
       "    </tr>\n",
       "  </tbody>\n",
       "</table>\n",
       "</div>"
      ],
      "text/plain": [
       "                                               Name Location  Area  Deposit  \\\n",
       "0  2 BHK For Rent in Emmanuel Apartment Shapur Baug   mumbai   939   900000   \n",
       "1            2 BHK For Rent in Gamdevi Gamdevi Road   mumbai   900   300000   \n",
       "2        2 BHK For Rent in Cmg Girnar Tower Mazgaon   mumbai   800   500000   \n",
       "3             1 BHK For Rent in Hari Krupa  Girgaon   mumbai   590    60000   \n",
       "4     2 BHK For Rent in Abdullah Building Umerkhadi   mumbai   750   127500   \n",
       "\n",
       "    Furnishing      Facing Water_Supply  Bathroom Security  BHK       Type  \\\n",
       "0         Full        East  Corporation         2      Yes    2  Apartment   \n",
       "1  Unfurnished       North  Corporation         2      Yes    2  Apartment   \n",
       "2         Full        East  Corporation         2      Yes    2  Apartment   \n",
       "3         Semi  Don't Know  Corporation         1      Yes    1  Apartment   \n",
       "4         Semi        West  Corporation         3       No    2  Apartment   \n",
       "\n",
       "        Parking Age_Building  Balcony         Rent  \n",
       "0  Bike and Car    3-5 Years        0 90000.000000  \n",
       "1          None    >10 Years        3 75000.000000  \n",
       "2           Car    >10 Years        0 70000.000000  \n",
       "3          None    3-5 Years        0 50000.000000  \n",
       "4          None    >10 Years        0 42500.000000  "
      ]
     },
     "execution_count": 62,
     "metadata": {},
     "output_type": "execute_result"
    }
   ],
   "source": [
    "new_df.head()"
   ]
  },
  {
   "cell_type": "code",
   "execution_count": 63,
   "id": "structural-japanese",
   "metadata": {},
   "outputs": [
    {
     "data": {
      "image/png": "[encoded data removed]",
      "text/plain": [
       "<Figure size 1080x360 with 1 Axes>"
      ]
     },
     "metadata": {
      "needs_background": "light"
     },
     "output_type": "display_data"
    }
   ],
   "source": [
    "plt.figure(figsize=(15,5))\n",
    "sns.barplot(x = 'Location', y = 'Rent', data = new_df)\n",
    "plt.show()"
   ]
  },
  {
   "cell_type": "code",
   "execution_count": 64,
   "id": "residential-synthetic",
   "metadata": {},
   "outputs": [
    {
     "data": {
      "image/png": "[encoded data removed]",
      "text/plain": [
       "<Figure size 1080x360 with 1 Axes>"
      ]
     },
     "metadata": {
      "needs_background": "light"
     },
     "output_type": "display_data"
    }
   ],
   "source": [
    "plt.figure(figsize=(15,5))\n",
    "sns.barplot(x = 'Furnishing', y = 'Rent', data = new_df)\n",
    "plt.show()"
   ]
  },
  {
   "cell_type": "code",
   "execution_count": 65,
   "id": "upset-bulgarian",
   "metadata": {},
   "outputs": [
    {
     "data": {
      "image/png": "[encoded data removed]",
      "text/plain": [
       "<Figure size 1080x360 with 1 Axes>"
      ]
     },
     "metadata": {
      "needs_background": "light"
     },
     "output_type": "display_data"
    }
   ],
   "source": [
    "plt.figure(figsize=(15,5))\n",
    "sns.barplot(x = 'Facing', y = 'Rent', data = new_df)\n",
    "plt.show()"
   ]
  },
  {
   "cell_type": "code",
   "execution_count": 66,
   "id": "virtual-month",
   "metadata": {},
   "outputs": [
    {
     "data": {
      "image/png": "[encoded data removed]",
      "text/plain": [
       "<Figure size 576x360 with 1 Axes>"
      ]
     },
     "metadata": {
      "needs_background": "light"
     },
     "output_type": "display_data"
    }
   ],
   "source": [
    "plt.figure(figsize=(8,5))\n",
    "sns.barplot(x = 'Water_Supply', y = 'Rent', data = new_df)\n",
    "plt.show()"
   ]
  },
  {
   "cell_type": "code",
   "execution_count": 67,
   "id": "scenic-stupid",
   "metadata": {},
   "outputs": [
    {
     "data": {
      "image/png": "[encoded data removed]",
      "text/plain": [
       "<Figure size 360x360 with 1 Axes>"
      ]
     },
     "metadata": {
      "needs_background": "light"
     },
     "output_type": "display_data"
    }
   ],
   "source": [
    "plt.figure(figsize=(5,5))\n",
    "sns.barplot(x = 'Security', y = 'Rent', data = new_df)\n",
    "plt.show()"
   ]
  },
  {
   "cell_type": "code",
   "execution_count": 68,
   "id": "removable-austin",
   "metadata": {},
   "outputs": [
    {
     "data": {
      "image/png": "[encoded data removed]",
      "text/plain": [
       "<Figure size 720x360 with 1 Axes>"
      ]
     },
     "metadata": {
      "needs_background": "light"
     },
     "output_type": "display_data"
    }
   ],
   "source": [
    "plt.figure(figsize=(10,5))\n",
    "sns.barplot(x = 'Type', y = 'Rent', data = new_df)\n",
    "plt.show()"
   ]
  },
  {
   "cell_type": "code",
   "execution_count": 69,
   "id": "fuzzy-accused",
   "metadata": {},
   "outputs": [
    {
     "data": {
      "image/png": "[encoded data removed]",
      "text/plain": [
       "<Figure size 720x360 with 1 Axes>"
      ]
     },
     "metadata": {
      "needs_background": "light"
     },
     "output_type": "display_data"
    }
   ],
   "source": [
    "plt.figure(figsize=(10,5))\n",
    "sns.barplot(x = 'Parking', y = 'Rent', data = new_df)\n",
    "plt.show()"
   ]
  },
  {
   "cell_type": "code",
   "execution_count": 70,
   "id": "suspended-redhead",
   "metadata": {},
   "outputs": [
    {
     "data": {
      "image/png": "[encoded data removed]",
      "text/plain": [
       "<Figure size 720x360 with 1 Axes>"
      ]
     },
     "metadata": {
      "needs_background": "light"
     },
     "output_type": "display_data"
    }
   ],
   "source": [
    "plt.figure(figsize=(10,5))\n",
    "sns.barplot(x = 'Age_Building', y = 'Rent', data = new_df)\n",
    "plt.show()"
   ]
  },
  {
   "cell_type": "markdown",
   "id": "collectible-cancellation",
   "metadata": {},
   "source": [
    "### Outliers Treatment"
   ]
  },
  {
   "cell_type": "code",
   "execution_count": 76,
   "id": "undefined-adult",
   "metadata": {},
   "outputs": [],
   "source": [
    "def diagnostic_plots(df, variable):\n",
    "    # function takes a dataframe (df) and\n",
    "    # the variable of interest as arguments\n",
    "\n",
    "    # define figure size\n",
    "    plt.figure(figsize=(16, 4))\n",
    "\n",
    "    # histogram\n",
    "    plt.subplot(1, 3, 1)\n",
    "    sns.distplot(df[variable], bins=30)\n",
    "    plt.title('Histogram')\n",
    "\n",
    "    # Q-Q plot\n",
    "    plt.subplot(1, 3, 2)\n",
    "    stats.probplot(df[variable], dist=\"norm\", plot=plt)\n",
    "    plt.ylabel('Variable quantiles')\n",
    "\n",
    "    # boxplot\n",
    "    plt.subplot(1, 3, 3)\n",
    "    sns.boxplot(y=df[variable])\n",
    "    plt.title('Boxplot')\n",
    "\n",
    "    plt.show()"
   ]
  },
  {
   "cell_type": "code",
   "execution_count": 78,
   "id": "material-crossing",
   "metadata": {},
   "outputs": [
    {
     "name": "stdout",
     "output_type": "stream",
     "text": [
      "******* Bathroom *******\n"
     ]
    },
    {
     "data": {
      "image/png": "[encoded data removed]",
      "text/plain": [
       "<Figure size 1152x288 with 3 Axes>"
      ]
     },
     "metadata": {
      "needs_background": "light"
     },
     "output_type": "display_data"
    },
    {
     "name": "stdout",
     "output_type": "stream",
     "text": [
      "******* Balcony *******\n"
     ]
    },
    {
     "data": {
      "image/png": "[encoded data removed]",
      "text/plain": [
       "<Figure size 1152x288 with 3 Axes>"
      ]
     },
     "metadata": {
      "needs_background": "light"
     },
     "output_type": "display_data"
    },
    {
     "name": "stdout",
     "output_type": "stream",
     "text": [
      "******* Area *******\n"
     ]
    },
    {
     "data": {
      "image/png": "[encoded data removed]",
      "text/plain": [
       "<Figure size 1152x288 with 3 Axes>"
      ]
     },
     "metadata": {
      "needs_background": "light"
     },
     "output_type": "display_data"
    },
    {
     "name": "stdout",
     "output_type": "stream",
     "text": [
      "******* BHK *******\n"
     ]
    },
    {
     "data": {
      "image/png": "[encoded data removed]",
      "text/plain": [
       "<Figure size 1152x288 with 3 Axes>"
      ]
     },
     "metadata": {
      "needs_background": "light"
     },
     "output_type": "display_data"
    },
    {
     "name": "stdout",
     "output_type": "stream",
     "text": [
      "******* Deposit *******\n"
     ]
    },
    {
     "data": {
      "image/png": "[encoded data removed]",
      "text/plain": [
       "<Figure size 1152x288 with 3 Axes>"
      ]
     },
     "metadata": {
      "needs_background": "light"
     },
     "output_type": "display_data"
    },
    {
     "name": "stdout",
     "output_type": "stream",
     "text": [
      "******* Rent *******\n"
     ]
    },
    {
     "data": {
      "image/png": "[encoded data removed]",
      "text/plain": [
       "<Figure size 1152x288 with 3 Axes>"
      ]
     },
     "metadata": {
      "needs_background": "light"
     },
     "output_type": "display_data"
    }
   ],
   "source": [
    "num_var = [\"Bathroom\",\"Balcony\",\"Area\",\"BHK\",\"Deposit\",\"Rent\"]\n",
    "for var in num_var:\n",
    "    print(\"******* {} *******\".format(var))\n",
    "    diagnostic_plots(new_df, var)"
   ]
  },
  {
   "cell_type": "code",
   "execution_count": 81,
   "id": "nuclear-moldova",
   "metadata": {
    "collapsed": true
   },
   "outputs": [
    {
     "data": {
      "text/html": [
       "<div>\n",
       "<style scoped>\n",
       "    .dataframe tbody tr th:only-of-type {\n",
       "        vertical-align: middle;\n",
       "    }\n",
       "\n",
       "    .dataframe tbody tr th {\n",
       "        vertical-align: top;\n",
       "    }\n",
       "\n",
       "    .dataframe thead th {\n",
       "        text-align: right;\n",
       "    }\n",
       "</style>\n",
       "<table border=\"1\" class=\"dataframe\">\n",
       "  <thead>\n",
       "    <tr style=\"text-align: right;\">\n",
       "      <th></th>\n",
       "      <th>Name</th>\n",
       "      <th>Location</th>\n",
       "      <th>Area</th>\n",
       "      <th>Deposit</th>\n",
       "      <th>Furnishing</th>\n",
       "      <th>Facing</th>\n",
       "      <th>Water_Supply</th>\n",
       "      <th>Bathroom</th>\n",
       "      <th>Security</th>\n",
       "      <th>BHK</th>\n",
       "      <th>Type</th>\n",
       "      <th>Parking</th>\n",
       "      <th>Age_Building</th>\n",
       "      <th>Balcony</th>\n",
       "      <th>Rent</th>\n",
       "      <th>Price_per_sqft</th>\n",
       "    </tr>\n",
       "  </thead>\n",
       "  <tbody>\n",
       "    <tr>\n",
       "      <td>0</td>\n",
       "      <td>2 BHK For Rent in Emmanuel Apartment Shapur Baug</td>\n",
       "      <td>mumbai</td>\n",
       "      <td>939</td>\n",
       "      <td>900000</td>\n",
       "      <td>Full</td>\n",
       "      <td>East</td>\n",
       "      <td>Corporation</td>\n",
       "      <td>2</td>\n",
       "      <td>Yes</td>\n",
       "      <td>2</td>\n",
       "      <td>Apartment</td>\n",
       "      <td>Bike and Car</td>\n",
       "      <td>3-5 Years</td>\n",
       "      <td>0</td>\n",
       "      <td>90000.000000</td>\n",
       "      <td>95.846645</td>\n",
       "    </tr>\n",
       "    <tr>\n",
       "      <td>1</td>\n",
       "      <td>2 BHK For Rent in Gamdevi Gamdevi Road</td>\n",
       "      <td>mumbai</td>\n",
       "      <td>900</td>\n",
       "      <td>300000</td>\n",
       "      <td>Unfurnished</td>\n",
       "      <td>North</td>\n",
       "      <td>Corporation</td>\n",
       "      <td>2</td>\n",
       "      <td>Yes</td>\n",
       "      <td>2</td>\n",
       "      <td>Apartment</td>\n",
       "      <td>None</td>\n",
       "      <td>&gt;10 Years</td>\n",
       "      <td>3</td>\n",
       "      <td>75000.000000</td>\n",
       "      <td>83.333333</td>\n",
       "    </tr>\n",
       "    <tr>\n",
       "      <td>2</td>\n",
       "      <td>2 BHK For Rent in Cmg Girnar Tower Mazgaon</td>\n",
       "      <td>mumbai</td>\n",
       "      <td>800</td>\n",
       "      <td>500000</td>\n",
       "      <td>Full</td>\n",
       "      <td>East</td>\n",
       "      <td>Corporation</td>\n",
       "      <td>2</td>\n",
       "      <td>Yes</td>\n",
       "      <td>2</td>\n",
       "      <td>Apartment</td>\n",
       "      <td>Car</td>\n",
       "      <td>&gt;10 Years</td>\n",
       "      <td>0</td>\n",
       "      <td>70000.000000</td>\n",
       "      <td>87.500000</td>\n",
       "    </tr>\n",
       "    <tr>\n",
       "      <td>3</td>\n",
       "      <td>1 BHK For Rent in Hari Krupa  Girgaon</td>\n",
       "      <td>mumbai</td>\n",
       "      <td>590</td>\n",
       "      <td>60000</td>\n",
       "      <td>Semi</td>\n",
       "      <td>Don't Know</td>\n",
       "      <td>Corporation</td>\n",
       "      <td>1</td>\n",
       "      <td>Yes</td>\n",
       "      <td>1</td>\n",
       "      <td>Apartment</td>\n",
       "      <td>None</td>\n",
       "      <td>3-5 Years</td>\n",
       "      <td>0</td>\n",
       "      <td>50000.000000</td>\n",
       "      <td>84.745763</td>\n",
       "    </tr>\n",
       "    <tr>\n",
       "      <td>4</td>\n",
       "      <td>2 BHK For Rent in Abdullah Building Umerkhadi</td>\n",
       "      <td>mumbai</td>\n",
       "      <td>750</td>\n",
       "      <td>127500</td>\n",
       "      <td>Semi</td>\n",
       "      <td>West</td>\n",
       "      <td>Corporation</td>\n",
       "      <td>3</td>\n",
       "      <td>No</td>\n",
       "      <td>2</td>\n",
       "      <td>Apartment</td>\n",
       "      <td>None</td>\n",
       "      <td>&gt;10 Years</td>\n",
       "      <td>0</td>\n",
       "      <td>42500.000000</td>\n",
       "      <td>56.666667</td>\n",
       "    </tr>\n",
       "  </tbody>\n",
       "</table>\n",
       "</div>"
      ],
      "text/plain": [
       "                                               Name Location  Area  Deposit  \\\n",
       "0  2 BHK For Rent in Emmanuel Apartment Shapur Baug   mumbai   939   900000   \n",
       "1            2 BHK For Rent in Gamdevi Gamdevi Road   mumbai   900   300000   \n",
       "2        2 BHK For Rent in Cmg Girnar Tower Mazgaon   mumbai   800   500000   \n",
       "3             1 BHK For Rent in Hari Krupa  Girgaon   mumbai   590    60000   \n",
       "4     2 BHK For Rent in Abdullah Building Umerkhadi   mumbai   750   127500   \n",
       "\n",
       "    Furnishing      Facing Water_Supply  Bathroom Security  BHK       Type  \\\n",
       "0         Full        East  Corporation         2      Yes    2  Apartment   \n",
       "1  Unfurnished       North  Corporation         2      Yes    2  Apartment   \n",
       "2         Full        East  Corporation         2      Yes    2  Apartment   \n",
       "3         Semi  Don't Know  Corporation         1      Yes    1  Apartment   \n",
       "4         Semi        West  Corporation         3       No    2  Apartment   \n",
       "\n",
       "        Parking Age_Building  Balcony         Rent  Price_per_sqft  \n",
       "0  Bike and Car    3-5 Years        0 90000.000000       95.846645  \n",
       "1          None    >10 Years        3 75000.000000       83.333333  \n",
       "2           Car    >10 Years        0 70000.000000       87.500000  \n",
       "3          None    3-5 Years        0 50000.000000       84.745763  \n",
       "4          None    >10 Years        0 42500.000000       56.666667  "
      ]
     },
     "execution_count": 81,
     "metadata": {},
     "output_type": "execute_result"
    }
   ],
   "source": [
    "# making a new column in the dataframe named `price_per_sqft`\n",
    "df1 = new_df.copy()\n",
    "df1['Price_per_sqft'] = new_df['Rent']/new_df['Area']\n",
    "df1.head()"
   ]
  },
  {
   "cell_type": "code",
   "execution_count": 85,
   "id": "encouraging-hobby",
   "metadata": {},
   "outputs": [
    {
     "data": {
      "text/plain": [
       "count   11096.000000\n",
       "mean       23.635997\n",
       "std        24.110895\n",
       "min         0.000667\n",
       "25%        13.480588\n",
       "50%        18.867925\n",
       "75%        26.666667\n",
       "max      1000.000000\n",
       "Name: Price_per_sqft, dtype: float64"
      ]
     },
     "execution_count": 85,
     "metadata": {},
     "output_type": "execute_result"
    }
   ],
   "source": [
    "df1.Price_per_sqft.describe()"
   ]
  },
  {
   "cell_type": "code",
   "execution_count": 92,
   "id": "isolated-stage",
   "metadata": {},
   "outputs": [
    {
     "data": {
      "text/html": [
       "<div>\n",
       "<style scoped>\n",
       "    .dataframe tbody tr th:only-of-type {\n",
       "        vertical-align: middle;\n",
       "    }\n",
       "\n",
       "    .dataframe tbody tr th {\n",
       "        vertical-align: top;\n",
       "    }\n",
       "\n",
       "    .dataframe thead th {\n",
       "        text-align: right;\n",
       "    }\n",
       "</style>\n",
       "<table border=\"1\" class=\"dataframe\">\n",
       "  <thead>\n",
       "    <tr style=\"text-align: right;\">\n",
       "      <th></th>\n",
       "      <th>Name</th>\n",
       "      <th>Location</th>\n",
       "      <th>Area</th>\n",
       "      <th>Deposit</th>\n",
       "      <th>Furnishing</th>\n",
       "      <th>Facing</th>\n",
       "      <th>Water_Supply</th>\n",
       "      <th>Bathroom</th>\n",
       "      <th>Security</th>\n",
       "      <th>BHK</th>\n",
       "      <th>Type</th>\n",
       "      <th>Parking</th>\n",
       "      <th>Age_Building</th>\n",
       "      <th>Balcony</th>\n",
       "      <th>Rent</th>\n",
       "      <th>Price_per_sqft</th>\n",
       "    </tr>\n",
       "  </thead>\n",
       "  <tbody>\n",
       "    <tr>\n",
       "      <td>31</td>\n",
       "      <td>1 RK For Rent in Umerkhadi</td>\n",
       "      <td>mumbai</td>\n",
       "      <td>120</td>\n",
       "      <td>50000</td>\n",
       "      <td>Unfurnished</td>\n",
       "      <td>West</td>\n",
       "      <td>Corporation</td>\n",
       "      <td>1</td>\n",
       "      <td>No</td>\n",
       "      <td>1</td>\n",
       "      <td>Independent House/villa</td>\n",
       "      <td>Bike</td>\n",
       "      <td>&gt;10 Years</td>\n",
       "      <td>1</td>\n",
       "      <td>120000.000000</td>\n",
       "      <td>1000.000000</td>\n",
       "    </tr>\n",
       "    <tr>\n",
       "      <td>384</td>\n",
       "      <td>1 RK For Rent in B.i.t Chawl Love Lane Mazgaon</td>\n",
       "      <td>mumbai</td>\n",
       "      <td>140</td>\n",
       "      <td>30000</td>\n",
       "      <td>Unfurnished</td>\n",
       "      <td>East</td>\n",
       "      <td>Corporation</td>\n",
       "      <td>1</td>\n",
       "      <td>No</td>\n",
       "      <td>1</td>\n",
       "      <td>Apartment</td>\n",
       "      <td>Bike and Car</td>\n",
       "      <td>&gt;10 Years</td>\n",
       "      <td>0</td>\n",
       "      <td>12000.000000</td>\n",
       "      <td>85.714286</td>\n",
       "    </tr>\n",
       "    <tr>\n",
       "      <td>404</td>\n",
       "      <td>1 RK For Rent in Balaram Bhavan  Bharat Nagar</td>\n",
       "      <td>mumbai</td>\n",
       "      <td>110</td>\n",
       "      <td>40000</td>\n",
       "      <td>Semi</td>\n",
       "      <td>Don't Know</td>\n",
       "      <td>Corporation</td>\n",
       "      <td>1</td>\n",
       "      <td>Yes</td>\n",
       "      <td>1</td>\n",
       "      <td>Apartment</td>\n",
       "      <td>Bike</td>\n",
       "      <td>&gt;10 Years</td>\n",
       "      <td>0</td>\n",
       "      <td>9000.000000</td>\n",
       "      <td>81.818182</td>\n",
       "    </tr>\n",
       "    <tr>\n",
       "      <td>408</td>\n",
       "      <td>1 RK For Rent in Pansare Building  Chinchpokli</td>\n",
       "      <td>mumbai</td>\n",
       "      <td>120</td>\n",
       "      <td>40000</td>\n",
       "      <td>Unfurnished</td>\n",
       "      <td>South</td>\n",
       "      <td>Corporation</td>\n",
       "      <td>1</td>\n",
       "      <td>No</td>\n",
       "      <td>1</td>\n",
       "      <td>Apartment</td>\n",
       "      <td>Bike and Car</td>\n",
       "      <td>&gt;10 Years</td>\n",
       "      <td>0</td>\n",
       "      <td>7000.000000</td>\n",
       "      <td>58.333333</td>\n",
       "    </tr>\n",
       "    <tr>\n",
       "      <td>415</td>\n",
       "      <td>1 RK For Rent in Khatijabai Surti Mulla Byculla</td>\n",
       "      <td>mumbai</td>\n",
       "      <td>110</td>\n",
       "      <td>700000</td>\n",
       "      <td>Full</td>\n",
       "      <td>East</td>\n",
       "      <td>Corporation</td>\n",
       "      <td>1</td>\n",
       "      <td>No</td>\n",
       "      <td>1</td>\n",
       "      <td>Apartment</td>\n",
       "      <td>Bike</td>\n",
       "      <td>&gt;10 Years</td>\n",
       "      <td>0</td>\n",
       "      <td>1000.000000</td>\n",
       "      <td>9.090909</td>\n",
       "    </tr>\n",
       "    <tr>\n",
       "      <td>...</td>\n",
       "      <td>...</td>\n",
       "      <td>...</td>\n",
       "      <td>...</td>\n",
       "      <td>...</td>\n",
       "      <td>...</td>\n",
       "      <td>...</td>\n",
       "      <td>...</td>\n",
       "      <td>...</td>\n",
       "      <td>...</td>\n",
       "      <td>...</td>\n",
       "      <td>...</td>\n",
       "      <td>...</td>\n",
       "      <td>...</td>\n",
       "      <td>...</td>\n",
       "      <td>...</td>\n",
       "      <td>...</td>\n",
       "    </tr>\n",
       "    <tr>\n",
       "      <td>11071</td>\n",
       "      <td>1 RK For Rent in Ballabhgarh</td>\n",
       "      <td>faridabad</td>\n",
       "      <td>120</td>\n",
       "      <td>5000</td>\n",
       "      <td>Semi</td>\n",
       "      <td>West</td>\n",
       "      <td>Corporation</td>\n",
       "      <td>1</td>\n",
       "      <td>No</td>\n",
       "      <td>1</td>\n",
       "      <td>Apartment</td>\n",
       "      <td>Bike and Car</td>\n",
       "      <td>1-3 Years</td>\n",
       "      <td>1</td>\n",
       "      <td>5000.000000</td>\n",
       "      <td>41.666667</td>\n",
       "    </tr>\n",
       "    <tr>\n",
       "      <td>11080</td>\n",
       "      <td>1 RK For Rent in Sector 15a</td>\n",
       "      <td>faridabad</td>\n",
       "      <td>120</td>\n",
       "      <td>5000</td>\n",
       "      <td>Semi</td>\n",
       "      <td>Don't Know</td>\n",
       "      <td>Corporation</td>\n",
       "      <td>1</td>\n",
       "      <td>No</td>\n",
       "      <td>1</td>\n",
       "      <td>Independent House/villa</td>\n",
       "      <td>Bike and Car</td>\n",
       "      <td>&gt;10 Years</td>\n",
       "      <td>0</td>\n",
       "      <td>5000.000000</td>\n",
       "      <td>41.666667</td>\n",
       "    </tr>\n",
       "    <tr>\n",
       "      <td>11100</td>\n",
       "      <td>1 RK For Rent in Ballabhgarh</td>\n",
       "      <td>faridabad</td>\n",
       "      <td>120</td>\n",
       "      <td>4500</td>\n",
       "      <td>Semi</td>\n",
       "      <td>Don't Know</td>\n",
       "      <td>Borewell</td>\n",
       "      <td>1</td>\n",
       "      <td>No</td>\n",
       "      <td>1</td>\n",
       "      <td>Apartment</td>\n",
       "      <td>Bike</td>\n",
       "      <td>Newly Constructed</td>\n",
       "      <td>0</td>\n",
       "      <td>4500.000000</td>\n",
       "      <td>37.500000</td>\n",
       "    </tr>\n",
       "    <tr>\n",
       "      <td>11122</td>\n",
       "      <td>1 RK For Rent in Sector 8</td>\n",
       "      <td>faridabad</td>\n",
       "      <td>130</td>\n",
       "      <td>3500</td>\n",
       "      <td>Unfurnished</td>\n",
       "      <td>Don't Know</td>\n",
       "      <td>Corporation</td>\n",
       "      <td>1</td>\n",
       "      <td>No</td>\n",
       "      <td>1</td>\n",
       "      <td>Apartment</td>\n",
       "      <td>Bike</td>\n",
       "      <td>Newly Constructed</td>\n",
       "      <td>0</td>\n",
       "      <td>3500.000000</td>\n",
       "      <td>26.923077</td>\n",
       "    </tr>\n",
       "    <tr>\n",
       "      <td>11138</td>\n",
       "      <td>1 RK For Rent in Parvatiya Colony Jawahar Colony</td>\n",
       "      <td>faridabad</td>\n",
       "      <td>100</td>\n",
       "      <td>2000</td>\n",
       "      <td>Unfurnished</td>\n",
       "      <td>North</td>\n",
       "      <td>Corporation</td>\n",
       "      <td>1</td>\n",
       "      <td>No</td>\n",
       "      <td>1</td>\n",
       "      <td>Apartment</td>\n",
       "      <td>Bike</td>\n",
       "      <td>1-3 Years</td>\n",
       "      <td>0</td>\n",
       "      <td>2000.000000</td>\n",
       "      <td>20.000000</td>\n",
       "    </tr>\n",
       "  </tbody>\n",
       "</table>\n",
       "<p>88 rows × 16 columns</p>\n",
       "</div>"
      ],
      "text/plain": [
       "                                                   Name   Location  Area  \\\n",
       "31                           1 RK For Rent in Umerkhadi     mumbai   120   \n",
       "384      1 RK For Rent in B.i.t Chawl Love Lane Mazgaon     mumbai   140   \n",
       "404       1 RK For Rent in Balaram Bhavan  Bharat Nagar     mumbai   110   \n",
       "408      1 RK For Rent in Pansare Building  Chinchpokli     mumbai   120   \n",
       "415     1 RK For Rent in Khatijabai Surti Mulla Byculla     mumbai   110   \n",
       "...                                                 ...        ...   ...   \n",
       "11071                      1 RK For Rent in Ballabhgarh  faridabad   120   \n",
       "11080                       1 RK For Rent in Sector 15a  faridabad   120   \n",
       "11100                      1 RK For Rent in Ballabhgarh  faridabad   120   \n",
       "11122                         1 RK For Rent in Sector 8  faridabad   130   \n",
       "11138  1 RK For Rent in Parvatiya Colony Jawahar Colony  faridabad   100   \n",
       "\n",
       "       Deposit   Furnishing      Facing Water_Supply  Bathroom Security  BHK  \\\n",
       "31       50000  Unfurnished        West  Corporation         1       No    1   \n",
       "384      30000  Unfurnished        East  Corporation         1       No    1   \n",
       "404      40000         Semi  Don't Know  Corporation         1      Yes    1   \n",
       "408      40000  Unfurnished       South  Corporation         1       No    1   \n",
       "415     700000         Full        East  Corporation         1       No    1   \n",
       "...        ...          ...         ...          ...       ...      ...  ...   \n",
       "11071     5000         Semi        West  Corporation         1       No    1   \n",
       "11080     5000         Semi  Don't Know  Corporation         1       No    1   \n",
       "11100     4500         Semi  Don't Know     Borewell         1       No    1   \n",
       "11122     3500  Unfurnished  Don't Know  Corporation         1       No    1   \n",
       "11138     2000  Unfurnished       North  Corporation         1       No    1   \n",
       "\n",
       "                          Type       Parking       Age_Building  Balcony  \\\n",
       "31     Independent House/villa          Bike          >10 Years        1   \n",
       "384                  Apartment  Bike and Car          >10 Years        0   \n",
       "404                  Apartment          Bike          >10 Years        0   \n",
       "408                  Apartment  Bike and Car          >10 Years        0   \n",
       "415                  Apartment          Bike          >10 Years        0   \n",
       "...                        ...           ...                ...      ...   \n",
       "11071                Apartment  Bike and Car          1-3 Years        1   \n",
       "11080  Independent House/villa  Bike and Car          >10 Years        0   \n",
       "11100                Apartment          Bike  Newly Constructed        0   \n",
       "11122                Apartment          Bike  Newly Constructed        0   \n",
       "11138                Apartment          Bike          1-3 Years        0   \n",
       "\n",
       "               Rent  Price_per_sqft  \n",
       "31    120000.000000     1000.000000  \n",
       "384    12000.000000       85.714286  \n",
       "404     9000.000000       81.818182  \n",
       "408     7000.000000       58.333333  \n",
       "415     1000.000000        9.090909  \n",
       "...             ...             ...  \n",
       "11071   5000.000000       41.666667  \n",
       "11080   5000.000000       41.666667  \n",
       "11100   4500.000000       37.500000  \n",
       "11122   3500.000000       26.923077  \n",
       "11138   2000.000000       20.000000  \n",
       "\n",
       "[88 rows x 16 columns]"
      ]
     },
     "execution_count": 92,
     "metadata": {},
     "output_type": "execute_result"
    }
   ],
   "source": [
    "df1[(df1.Area/df1.BHK) <150]"
   ]
  },
  {
   "cell_type": "code",
   "execution_count": 98,
   "id": "divided-divide",
   "metadata": {},
   "outputs": [
    {
     "data": {
      "text/plain": [
       "(11096, 16)"
      ]
     },
     "execution_count": 98,
     "metadata": {},
     "output_type": "execute_result"
    }
   ],
   "source": [
    "df1.shape"
   ]
  },
  {
   "cell_type": "code",
   "execution_count": 94,
   "id": "received-difference",
   "metadata": {},
   "outputs": [],
   "source": [
    "df2 = df1[~(df1.Area/df1.BHK < 150)]"
   ]
  },
  {
   "cell_type": "code",
   "execution_count": 96,
   "id": "atomic-product",
   "metadata": {},
   "outputs": [
    {
     "data": {
      "text/plain": [
       "(11008, 16)"
      ]
     },
     "execution_count": 96,
     "metadata": {},
     "output_type": "execute_result"
    }
   ],
   "source": [
    "df2.shape"
   ]
  },
  {
   "cell_type": "code",
   "execution_count": 112,
   "id": "passing-paintball",
   "metadata": {},
   "outputs": [],
   "source": [
    "def remove_outliers(dataframe,Column_name):\n",
    "    '''\n",
    "    Function to clear stuff (outliers).\n",
    "    '''\n",
    "    df_out = pd.DataFrame()\n",
    "    for key, subdf in dataframe.groupby('Location'):\n",
    "        m = np.mean(subdf[Column_name])\n",
    "        st = np.std(subdf[Column_name])\n",
    "        reduced_df = subdf[(subdf[Column_name]>(m-st)) & (subdf[Column_name]<=(m+st))]\n",
    "        df_out = pd.concat([df_out,reduced_df],ignore_index=True)\n",
    "    return df_out"
   ]
  },
  {
   "cell_type": "code",
   "execution_count": 117,
   "id": "third-timeline",
   "metadata": {},
   "outputs": [],
   "source": [
    "df3=remove_outliers(df2,'Price_per_sqft')"
   ]
  },
  {
   "cell_type": "code",
   "execution_count": 118,
   "id": "relative-assembly",
   "metadata": {},
   "outputs": [
    {
     "data": {
      "text/plain": [
       "(9268, 16)"
      ]
     },
     "execution_count": 118,
     "metadata": {},
     "output_type": "execute_result"
    }
   ],
   "source": [
    "df3.shape"
   ]
  },
  {
   "cell_type": "code",
   "execution_count": 123,
   "id": "false-manufacturer",
   "metadata": {},
   "outputs": [
    {
     "data": {
      "text/html": [
       "<div>\n",
       "<style scoped>\n",
       "    .dataframe tbody tr th:only-of-type {\n",
       "        vertical-align: middle;\n",
       "    }\n",
       "\n",
       "    .dataframe tbody tr th {\n",
       "        vertical-align: top;\n",
       "    }\n",
       "\n",
       "    .dataframe thead th {\n",
       "        text-align: right;\n",
       "    }\n",
       "</style>\n",
       "<table border=\"1\" class=\"dataframe\">\n",
       "  <thead>\n",
       "    <tr style=\"text-align: right;\">\n",
       "      <th></th>\n",
       "      <th>Name</th>\n",
       "      <th>Location</th>\n",
       "      <th>Area</th>\n",
       "      <th>Deposit</th>\n",
       "      <th>Furnishing</th>\n",
       "      <th>Facing</th>\n",
       "      <th>Water_Supply</th>\n",
       "      <th>Bathroom</th>\n",
       "      <th>Security</th>\n",
       "      <th>BHK</th>\n",
       "      <th>Type</th>\n",
       "      <th>Parking</th>\n",
       "      <th>Age_Building</th>\n",
       "      <th>Balcony</th>\n",
       "      <th>Rent</th>\n",
       "      <th>Price_per_sqft</th>\n",
       "    </tr>\n",
       "  </thead>\n",
       "  <tbody>\n",
       "    <tr>\n",
       "      <td>1297</td>\n",
       "      <td>4+ BHK For Rent in Koramangala</td>\n",
       "      <td>banglore</td>\n",
       "      <td>4000</td>\n",
       "      <td>600000</td>\n",
       "      <td>Full</td>\n",
       "      <td>Don't Know</td>\n",
       "      <td>Corporation</td>\n",
       "      <td>7</td>\n",
       "      <td>No</td>\n",
       "      <td>4</td>\n",
       "      <td>Apartment</td>\n",
       "      <td>Bike</td>\n",
       "      <td>&gt;10 Years</td>\n",
       "      <td>0</td>\n",
       "      <td>60500.000000</td>\n",
       "      <td>15.125000</td>\n",
       "    </tr>\n",
       "    <tr>\n",
       "      <td>1837</td>\n",
       "      <td>4 BHK For Rent in Madipakkam</td>\n",
       "      <td>chennai</td>\n",
       "      <td>3500</td>\n",
       "      <td>250000</td>\n",
       "      <td>Semi</td>\n",
       "      <td>North</td>\n",
       "      <td>Borewell</td>\n",
       "      <td>8</td>\n",
       "      <td>No</td>\n",
       "      <td>4</td>\n",
       "      <td>Independent House/villa</td>\n",
       "      <td>Bike and Car</td>\n",
       "      <td>5-10 Years</td>\n",
       "      <td>1</td>\n",
       "      <td>50000.000000</td>\n",
       "      <td>14.285714</td>\n",
       "    </tr>\n",
       "    <tr>\n",
       "      <td>3134</td>\n",
       "      <td>2 BHK For Rent in Vajra Perumbakkam</td>\n",
       "      <td>chennai</td>\n",
       "      <td>1000</td>\n",
       "      <td>200000</td>\n",
       "      <td>Semi</td>\n",
       "      <td>East</td>\n",
       "      <td>Both</td>\n",
       "      <td>8</td>\n",
       "      <td>Yes</td>\n",
       "      <td>2</td>\n",
       "      <td>Apartment</td>\n",
       "      <td>Bike and Car</td>\n",
       "      <td>Under Construction</td>\n",
       "      <td>4</td>\n",
       "      <td>15000.000000</td>\n",
       "      <td>15.000000</td>\n",
       "    </tr>\n",
       "    <tr>\n",
       "      <td>3368</td>\n",
       "      <td>4+ BHK For Rent in Sundar Nagar</td>\n",
       "      <td>delhi</td>\n",
       "      <td>7000</td>\n",
       "      <td>4500000</td>\n",
       "      <td>Unfurnished</td>\n",
       "      <td>East</td>\n",
       "      <td>Both</td>\n",
       "      <td>8</td>\n",
       "      <td>Yes</td>\n",
       "      <td>4</td>\n",
       "      <td>Apartment</td>\n",
       "      <td>Bike and Car</td>\n",
       "      <td>&gt;10 Years</td>\n",
       "      <td>5</td>\n",
       "      <td>150000.000000</td>\n",
       "      <td>21.428571</td>\n",
       "    </tr>\n",
       "    <tr>\n",
       "      <td>4463</td>\n",
       "      <td>4+ BHK For Rent in Palwali</td>\n",
       "      <td>faridabad</td>\n",
       "      <td>20000</td>\n",
       "      <td>500000</td>\n",
       "      <td>Unfurnished</td>\n",
       "      <td>West</td>\n",
       "      <td>Both</td>\n",
       "      <td>28</td>\n",
       "      <td>Yes</td>\n",
       "      <td>4</td>\n",
       "      <td>Apartment</td>\n",
       "      <td>Bike and Car</td>\n",
       "      <td>Under Construction</td>\n",
       "      <td>2</td>\n",
       "      <td>160000.000000</td>\n",
       "      <td>8.000000</td>\n",
       "    </tr>\n",
       "    <tr>\n",
       "      <td>5380</td>\n",
       "      <td>3 BHK For Rent in Standalone Building   Surya ...</td>\n",
       "      <td>ghaziabad</td>\n",
       "      <td>1783</td>\n",
       "      <td>60000</td>\n",
       "      <td>Semi</td>\n",
       "      <td>East</td>\n",
       "      <td>Both</td>\n",
       "      <td>6</td>\n",
       "      <td>Yes</td>\n",
       "      <td>3</td>\n",
       "      <td>Apartment</td>\n",
       "      <td>Bike and Car</td>\n",
       "      <td>3-5 Years</td>\n",
       "      <td>4</td>\n",
       "      <td>30000.000000</td>\n",
       "      <td>16.825575</td>\n",
       "    </tr>\n",
       "    <tr>\n",
       "      <td>6071</td>\n",
       "      <td>4 BHK For Rent in Pearl Court - 2 Essel Towers...</td>\n",
       "      <td>gurgaon</td>\n",
       "      <td>3431</td>\n",
       "      <td>90000</td>\n",
       "      <td>Full</td>\n",
       "      <td>East</td>\n",
       "      <td>Borewell</td>\n",
       "      <td>7</td>\n",
       "      <td>Yes</td>\n",
       "      <td>4</td>\n",
       "      <td>Apartment</td>\n",
       "      <td>Bike</td>\n",
       "      <td>&gt;10 Years</td>\n",
       "      <td>6</td>\n",
       "      <td>99000.000000</td>\n",
       "      <td>28.854561</td>\n",
       "    </tr>\n",
       "    <tr>\n",
       "      <td>6157</td>\n",
       "      <td>4+ BHK For Rent in Sector 25</td>\n",
       "      <td>gurgaon</td>\n",
       "      <td>10000</td>\n",
       "      <td>750000</td>\n",
       "      <td>Full</td>\n",
       "      <td>Don't Know</td>\n",
       "      <td>Corporation</td>\n",
       "      <td>15</td>\n",
       "      <td>No</td>\n",
       "      <td>4</td>\n",
       "      <td>Apartment</td>\n",
       "      <td>Bike and Car</td>\n",
       "      <td>5-10 Years</td>\n",
       "      <td>0</td>\n",
       "      <td>250000.000000</td>\n",
       "      <td>25.000000</td>\n",
       "    </tr>\n",
       "    <tr>\n",
       "      <td>6158</td>\n",
       "      <td>4+ BHK For Rent in Sector 25</td>\n",
       "      <td>gurgaon</td>\n",
       "      <td>7000</td>\n",
       "      <td>840000</td>\n",
       "      <td>Full</td>\n",
       "      <td>North</td>\n",
       "      <td>Corporation</td>\n",
       "      <td>12</td>\n",
       "      <td>Yes</td>\n",
       "      <td>4</td>\n",
       "      <td>Apartment</td>\n",
       "      <td>Bike and Car</td>\n",
       "      <td>1-3 Years</td>\n",
       "      <td>9</td>\n",
       "      <td>210000.000000</td>\n",
       "      <td>30.000000</td>\n",
       "    </tr>\n",
       "    <tr>\n",
       "      <td>6159</td>\n",
       "      <td>4+ BHK For Rent in Palam Vihar Extension</td>\n",
       "      <td>gurgaon</td>\n",
       "      <td>3120</td>\n",
       "      <td>300000</td>\n",
       "      <td>Semi</td>\n",
       "      <td>North-East</td>\n",
       "      <td>Both</td>\n",
       "      <td>8</td>\n",
       "      <td>No</td>\n",
       "      <td>4</td>\n",
       "      <td>Apartment</td>\n",
       "      <td>Bike and Car</td>\n",
       "      <td>Newly Constructed</td>\n",
       "      <td>0</td>\n",
       "      <td>100000.000000</td>\n",
       "      <td>32.051282</td>\n",
       "    </tr>\n",
       "    <tr>\n",
       "      <td>6160</td>\n",
       "      <td>4+ BHK For Rent in Sector 25</td>\n",
       "      <td>gurgaon</td>\n",
       "      <td>4000</td>\n",
       "      <td>190000</td>\n",
       "      <td>Full</td>\n",
       "      <td>Don't Know</td>\n",
       "      <td>Corporation</td>\n",
       "      <td>8</td>\n",
       "      <td>No</td>\n",
       "      <td>4</td>\n",
       "      <td>Apartment</td>\n",
       "      <td>Bike and Car</td>\n",
       "      <td>&gt;10 Years</td>\n",
       "      <td>0</td>\n",
       "      <td>95000.000000</td>\n",
       "      <td>23.750000</td>\n",
       "    </tr>\n",
       "    <tr>\n",
       "      <td>7575</td>\n",
       "      <td>2 BHK For Rent in Palacia Thane West</td>\n",
       "      <td>mumbai</td>\n",
       "      <td>600</td>\n",
       "      <td>100000</td>\n",
       "      <td>Semi</td>\n",
       "      <td>East</td>\n",
       "      <td>Corporation</td>\n",
       "      <td>5</td>\n",
       "      <td>Yes</td>\n",
       "      <td>2</td>\n",
       "      <td>Apartment</td>\n",
       "      <td>Car</td>\n",
       "      <td>3-5 Years</td>\n",
       "      <td>1</td>\n",
       "      <td>24000.000000</td>\n",
       "      <td>40.000000</td>\n",
       "    </tr>\n",
       "    <tr>\n",
       "      <td>8212</td>\n",
       "      <td>4+ BHK For Rent in Omaxe Nri City Omega Ii</td>\n",
       "      <td>noida</td>\n",
       "      <td>6000</td>\n",
       "      <td>270000</td>\n",
       "      <td>Unfurnished</td>\n",
       "      <td>Don't Know</td>\n",
       "      <td>Corporation</td>\n",
       "      <td>7</td>\n",
       "      <td>Yes</td>\n",
       "      <td>4</td>\n",
       "      <td>Apartment</td>\n",
       "      <td>Bike and Car</td>\n",
       "      <td>5-10 Years</td>\n",
       "      <td>0</td>\n",
       "      <td>100500.000000</td>\n",
       "      <td>16.750000</td>\n",
       "    </tr>\n",
       "    <tr>\n",
       "      <td>8213</td>\n",
       "      <td>4+ BHK For Rent in Nri City Sadarpur</td>\n",
       "      <td>noida</td>\n",
       "      <td>8100</td>\n",
       "      <td>130000</td>\n",
       "      <td>Semi</td>\n",
       "      <td>East</td>\n",
       "      <td>Both</td>\n",
       "      <td>9</td>\n",
       "      <td>Yes</td>\n",
       "      <td>4</td>\n",
       "      <td>Gated Community</td>\n",
       "      <td>Bike and Car</td>\n",
       "      <td>3-5 Years</td>\n",
       "      <td>4</td>\n",
       "      <td>66400.000000</td>\n",
       "      <td>8.197531</td>\n",
       "    </tr>\n",
       "    <tr>\n",
       "      <td>8236</td>\n",
       "      <td>4+ BHK For Rent in Standalone Building   Beta I</td>\n",
       "      <td>noida</td>\n",
       "      <td>9000</td>\n",
       "      <td>160000</td>\n",
       "      <td>Unfurnished</td>\n",
       "      <td>North</td>\n",
       "      <td>Corporation</td>\n",
       "      <td>8</td>\n",
       "      <td>No</td>\n",
       "      <td>4</td>\n",
       "      <td>Apartment</td>\n",
       "      <td>Bike</td>\n",
       "      <td>1-3 Years</td>\n",
       "      <td>0</td>\n",
       "      <td>80000.000000</td>\n",
       "      <td>8.888889</td>\n",
       "    </tr>\n",
       "    <tr>\n",
       "      <td>9018</td>\n",
       "      <td>4+ BHK For Rent in Pimpri-chinchwad</td>\n",
       "      <td>pune</td>\n",
       "      <td>10000</td>\n",
       "      <td>1050000</td>\n",
       "      <td>Full</td>\n",
       "      <td>West</td>\n",
       "      <td>Both</td>\n",
       "      <td>10</td>\n",
       "      <td>Yes</td>\n",
       "      <td>4</td>\n",
       "      <td>Apartment</td>\n",
       "      <td>Bike and Car</td>\n",
       "      <td>5-10 Years</td>\n",
       "      <td>4</td>\n",
       "      <td>175000.000000</td>\n",
       "      <td>17.500000</td>\n",
       "    </tr>\n",
       "  </tbody>\n",
       "</table>\n",
       "</div>"
      ],
      "text/plain": [
       "                                                   Name   Location   Area  \\\n",
       "1297                     4+ BHK For Rent in Koramangala   banglore   4000   \n",
       "1837                       4 BHK For Rent in Madipakkam    chennai   3500   \n",
       "3134                2 BHK For Rent in Vajra Perumbakkam    chennai   1000   \n",
       "3368                    4+ BHK For Rent in Sundar Nagar      delhi   7000   \n",
       "4463                         4+ BHK For Rent in Palwali  faridabad  20000   \n",
       "5380  3 BHK For Rent in Standalone Building   Surya ...  ghaziabad   1783   \n",
       "6071  4 BHK For Rent in Pearl Court - 2 Essel Towers...    gurgaon   3431   \n",
       "6157                       4+ BHK For Rent in Sector 25    gurgaon  10000   \n",
       "6158                       4+ BHK For Rent in Sector 25    gurgaon   7000   \n",
       "6159           4+ BHK For Rent in Palam Vihar Extension    gurgaon   3120   \n",
       "6160                       4+ BHK For Rent in Sector 25    gurgaon   4000   \n",
       "7575               2 BHK For Rent in Palacia Thane West     mumbai    600   \n",
       "8212         4+ BHK For Rent in Omaxe Nri City Omega Ii      noida   6000   \n",
       "8213               4+ BHK For Rent in Nri City Sadarpur      noida   8100   \n",
       "8236    4+ BHK For Rent in Standalone Building   Beta I      noida   9000   \n",
       "9018                4+ BHK For Rent in Pimpri-chinchwad       pune  10000   \n",
       "\n",
       "      Deposit   Furnishing      Facing Water_Supply  Bathroom Security  BHK  \\\n",
       "1297   600000         Full  Don't Know  Corporation         7       No    4   \n",
       "1837   250000         Semi       North     Borewell         8       No    4   \n",
       "3134   200000         Semi        East         Both         8      Yes    2   \n",
       "3368  4500000  Unfurnished        East         Both         8      Yes    4   \n",
       "4463   500000  Unfurnished        West         Both        28      Yes    4   \n",
       "5380    60000         Semi        East         Both         6      Yes    3   \n",
       "6071    90000         Full        East     Borewell         7      Yes    4   \n",
       "6157   750000         Full  Don't Know  Corporation        15       No    4   \n",
       "6158   840000         Full       North  Corporation        12      Yes    4   \n",
       "6159   300000         Semi  North-East         Both         8       No    4   \n",
       "6160   190000         Full  Don't Know  Corporation         8       No    4   \n",
       "7575   100000         Semi        East  Corporation         5      Yes    2   \n",
       "8212   270000  Unfurnished  Don't Know  Corporation         7      Yes    4   \n",
       "8213   130000         Semi        East         Both         9      Yes    4   \n",
       "8236   160000  Unfurnished       North  Corporation         8       No    4   \n",
       "9018  1050000         Full        West         Both        10      Yes    4   \n",
       "\n",
       "                         Type       Parking        Age_Building  Balcony  \\\n",
       "1297                Apartment          Bike           >10 Years        0   \n",
       "1837  Independent House/villa  Bike and Car          5-10 Years        1   \n",
       "3134                Apartment  Bike and Car  Under Construction        4   \n",
       "3368                Apartment  Bike and Car           >10 Years        5   \n",
       "4463                Apartment  Bike and Car  Under Construction        2   \n",
       "5380                Apartment  Bike and Car           3-5 Years        4   \n",
       "6071                Apartment          Bike           >10 Years        6   \n",
       "6157                Apartment  Bike and Car          5-10 Years        0   \n",
       "6158                Apartment  Bike and Car           1-3 Years        9   \n",
       "6159                Apartment  Bike and Car   Newly Constructed        0   \n",
       "6160                Apartment  Bike and Car           >10 Years        0   \n",
       "7575                Apartment           Car           3-5 Years        1   \n",
       "8212                Apartment  Bike and Car          5-10 Years        0   \n",
       "8213          Gated Community  Bike and Car           3-5 Years        4   \n",
       "8236                Apartment          Bike           1-3 Years        0   \n",
       "9018                Apartment  Bike and Car          5-10 Years        4   \n",
       "\n",
       "              Rent  Price_per_sqft  \n",
       "1297  60500.000000       15.125000  \n",
       "1837  50000.000000       14.285714  \n",
       "3134  15000.000000       15.000000  \n",
       "3368 150000.000000       21.428571  \n",
       "4463 160000.000000        8.000000  \n",
       "5380  30000.000000       16.825575  \n",
       "6071  99000.000000       28.854561  \n",
       "6157 250000.000000       25.000000  \n",
       "6158 210000.000000       30.000000  \n",
       "6159 100000.000000       32.051282  \n",
       "6160  95000.000000       23.750000  \n",
       "7575  24000.000000       40.000000  \n",
       "8212 100500.000000       16.750000  \n",
       "8213  66400.000000        8.197531  \n",
       "8236  80000.000000        8.888889  \n",
       "9018 175000.000000       17.500000  "
      ]
     },
     "execution_count": 123,
     "metadata": {},
     "output_type": "execute_result"
    }
   ],
   "source": [
    "df3[df3.Bathroom > df3.BHK + 2]"
   ]
  },
  {
   "cell_type": "code",
   "execution_count": 124,
   "id": "sixth-aberdeen",
   "metadata": {},
   "outputs": [],
   "source": [
    "df4 = df3[df3.Bathroom < df3.BHK + 2]"
   ]
  },
  {
   "cell_type": "code",
   "execution_count": 125,
   "id": "sealed-edmonton",
   "metadata": {},
   "outputs": [
    {
     "data": {
      "text/plain": [
       "(9234, 16)"
      ]
     },
     "execution_count": 125,
     "metadata": {},
     "output_type": "execute_result"
    }
   ],
   "source": [
    "df4.shape"
   ]
  },
  {
   "cell_type": "markdown",
   "id": "manufactured-advertising",
   "metadata": {},
   "source": [
    "### Transformation"
   ]
  },
  {
   "cell_type": "code",
   "execution_count": 129,
   "id": "secret-telling",
   "metadata": {},
   "outputs": [
    {
     "data": {
      "image/png": "[encoded data removed]",
      "text/plain": [
       "<Figure size 432x288 with 1 Axes>"
      ]
     },
     "metadata": {
      "needs_background": "light"
     },
     "output_type": "display_data"
    }
   ],
   "source": [
    "sns.distplot(df4.Area)\n",
    "plt.show()"
   ]
  },
  {
   "cell_type": "code",
   "execution_count": 131,
   "id": "vocal-attendance",
   "metadata": {},
   "outputs": [
    {
     "name": "stdout",
     "output_type": "stream",
     "text": [
      "1.4174230560479795\n"
     ]
    }
   ],
   "source": [
    "print(df4.Area.skew())"
   ]
  },
  {
   "cell_type": "code",
   "execution_count": 132,
   "id": "mysterious-joseph",
   "metadata": {},
   "outputs": [
    {
     "data": {
      "text/plain": [
       "-0.3877601872025978"
      ]
     },
     "execution_count": 132,
     "metadata": {},
     "output_type": "execute_result"
    }
   ],
   "source": [
    "Area_transform = np.log(df4.Area)\n",
    "Area_transform.skew()"
   ]
  },
  {
   "cell_type": "code",
   "execution_count": 133,
   "id": "human-valuation",
   "metadata": {},
   "outputs": [
    {
     "data": {
      "image/png": "[encoded data removed]",
      "text/plain": [
       "<Figure size 432x288 with 1 Axes>"
      ]
     },
     "metadata": {
      "needs_background": "light"
     },
     "output_type": "display_data"
    },
    {
     "name": "stdout",
     "output_type": "stream",
     "text": [
      "8.298043696352158\n"
     ]
    }
   ],
   "source": [
    "sns.distplot(df4.Deposit,hist = False, kde = True, \n",
    "            kde_kws = {'shade': True, 'linewidth': 2},  \n",
    "            color =\"green\")\n",
    "plt.show()\n",
    "print(df4.Deposit.skew())"
   ]
  },
  {
   "cell_type": "code",
   "execution_count": 134,
   "id": "proof-double",
   "metadata": {},
   "outputs": [],
   "source": [
    "Deposit_transform, Deposit_lambda = stats.boxcox(df4.Deposit)"
   ]
  },
  {
   "cell_type": "code",
   "execution_count": 135,
   "id": "miniature-windsor",
   "metadata": {},
   "outputs": [
    {
     "name": "stdout",
     "output_type": "stream",
     "text": [
      "Lambda value used for Transformation: 0.255608151551501\n"
     ]
    },
    {
     "data": {
      "image/png": "[encoded data removed]",
      "text/plain": [
       "<Figure size 432x288 with 1 Axes>"
      ]
     },
     "metadata": {
      "needs_background": "light"
     },
     "output_type": "display_data"
    },
    {
     "name": "stdout",
     "output_type": "stream",
     "text": [
      "0.15498464419587568\n"
     ]
    }
   ],
   "source": [
    "print(\"Lambda value used for Transformation:\",Deposit_lambda)\n",
    "sns.distplot(Deposit_transform, hist = False, kde = True, \n",
    "            kde_kws = {'shade': True, 'linewidth': 2},  \n",
    "            color =\"green\") \n",
    "plt.show()\n",
    "print(stats.skew(Deposit_transform))"
   ]
  },
  {
   "cell_type": "code",
   "execution_count": 136,
   "id": "vital-craft",
   "metadata": {},
   "outputs": [
    {
     "data": {
      "image/png": "[encoded data removed]",
      "text/plain": [
       "<Figure size 432x288 with 1 Axes>"
      ]
     },
     "metadata": {
      "needs_background": "light"
     },
     "output_type": "display_data"
    },
    {
     "data": {
      "text/plain": [
       "2.3998892516818975"
      ]
     },
     "execution_count": 136,
     "metadata": {},
     "output_type": "execute_result"
    }
   ],
   "source": [
    "sns.distplot(df4.Rent,hist = False, kde = True, \n",
    "            kde_kws = {'shade': True, 'linewidth': 2},  \n",
    "            color =\"green\")\n",
    "plt.show()\n",
    "df4.Rent.skew()"
   ]
  },
  {
   "cell_type": "code",
   "execution_count": 138,
   "id": "satisfactory-summary",
   "metadata": {},
   "outputs": [
    {
     "data": {
      "text/plain": [
       "0.6114795824872665"
      ]
     },
     "execution_count": 138,
     "metadata": {},
     "output_type": "execute_result"
    }
   ],
   "source": [
    "Rent_transform = np.sqrt(df4.Rent)\n",
    "Rent_transform.skew()"
   ]
  },
  {
   "cell_type": "code",
   "execution_count": 139,
   "id": "legislative-niagara",
   "metadata": {},
   "outputs": [
    {
     "data": {
      "image/png": "[encoded data removed]",
      "text/plain": [
       "<Figure size 432x288 with 1 Axes>"
      ]
     },
     "metadata": {
      "needs_background": "light"
     },
     "output_type": "display_data"
    }
   ],
   "source": [
    "sns.distplot(Rent_transform, hist = False, kde = True, \n",
    "            kde_kws = {'shade': True, 'linewidth': 2},  \n",
    "            color =\"green\") \n",
    "plt.show()"
   ]
  },
  {
   "cell_type": "markdown",
   "id": "ranging-monaco",
   "metadata": {},
   "source": [
    "### Onehot Encoding"
   ]
  },
  {
   "cell_type": "code",
   "execution_count": 140,
   "id": "continuous-discussion",
   "metadata": {},
   "outputs": [],
   "source": [
    "location = pd.get_dummies(df4.Location)\n",
    "Facing = pd.get_dummies(df4.Facing)\n",
    "Water_Supply = pd.get_dummies(df4.Water_Supply)\n",
    "Type = pd.get_dummies(df4.Type)"
   ]
  },
  {
   "cell_type": "markdown",
   "id": "eastern-simpson",
   "metadata": {},
   "source": [
    "### Label Encoding"
   ]
  },
  {
   "cell_type": "code",
   "execution_count": 141,
   "id": "manufactured-victory",
   "metadata": {},
   "outputs": [],
   "source": [
    "Furnishing = {'Full': 2,'Unfurnished': 0,'Semi': 1}\n",
    "Security = {'Yes': 1,'No': 0}\n",
    "Parking = {'None': 0,'Car': 2,'Bike': 1,'Bike and Car': 3}\n",
    "Age_Building = {'Under Construction': 0,'1-3 Years': 4,'3-5 Years': 3,'>10 Years': 1, '5-10 Years': 2,'Newly Constructed':5}"
   ]
  },
  {
   "cell_type": "code",
   "execution_count": 142,
   "id": "varied-postage",
   "metadata": {},
   "outputs": [],
   "source": [
    "final_df = df4.drop(['Name','Location','Facing','Water_Supply','Type','Area','Deposit','Rent'],axis=1)"
   ]
  },
  {
   "cell_type": "code",
   "execution_count": 143,
   "id": "cognitive-taiwan",
   "metadata": {},
   "outputs": [],
   "source": [
    "final_df['Area_transform'] = Area_transform\n",
    "#final_df['Deposit_transform'] = Deposit_transform\n",
    "final_df['Rent_transform'] = Rent_transform"
   ]
  },
  {
   "cell_type": "code",
   "execution_count": 144,
   "id": "featured-craps",
   "metadata": {},
   "outputs": [],
   "source": [
    "final_df['Furnishing']= final_df['Furnishing'].map(Furnishing)\n",
    "final_df['Security']= final_df['Security'].map(Security)\n",
    "final_df['Parking']= final_df['Parking'].map(Parking)\n",
    "final_df['Age_Building']= final_df['Age_Building'].map(Age_Building)\n"
   ]
  },
  {
   "cell_type": "code",
   "execution_count": 145,
   "id": "anticipated-courtesy",
   "metadata": {},
   "outputs": [],
   "source": [
    "final_df = pd.concat([location,Facing,Water_Supply,Type,final_df], axis=1)"
   ]
  },
  {
   "cell_type": "markdown",
   "id": "synthetic-decline",
   "metadata": {},
   "source": [
    "### Splitting the data"
   ]
  },
  {
   "cell_type": "code",
   "execution_count": 172,
   "id": "ordinary-plaza",
   "metadata": {},
   "outputs": [],
   "source": [
    "X = final_df.drop(['Rent_transform','Price_per_sqft'],axis=1)\n",
    "y = final_df.Rent_transform"
   ]
  },
  {
   "cell_type": "code",
   "execution_count": 173,
   "id": "widespread-pollution",
   "metadata": {},
   "outputs": [],
   "source": [
    "from sklearn.model_selection import train_test_split\n",
    "\n",
    "X_train, X_test,y_train,y_test = train_test_split(X,y,test_size=0.2,random_state = 10)"
   ]
  },
  {
   "cell_type": "markdown",
   "id": "controlling-duplicate",
   "metadata": {},
   "source": [
    "### Model1: Linear Regression"
   ]
  },
  {
   "cell_type": "code",
   "execution_count": 174,
   "id": "ready-gilbert",
   "metadata": {},
   "outputs": [],
   "source": [
    "from sklearn.linear_model import LinearRegression\n",
    "from sklearn.metrics import mean_squared_error, r2_score"
   ]
  },
  {
   "cell_type": "code",
   "execution_count": 175,
   "id": "described-system",
   "metadata": {},
   "outputs": [],
   "source": [
    "lm = LinearRegression()\n",
    "model1 = lm.fit(X_train,y_train)\n",
    "\n",
    "y_pred_test=model1.predict(X_test)\n",
    "y_pred_train=model1.predict(X_train)"
   ]
  },
  {
   "cell_type": "code",
   "execution_count": 176,
   "id": "expressed-coordination",
   "metadata": {},
   "outputs": [
    {
     "name": "stdout",
     "output_type": "stream",
     "text": [
      "Training Score\n",
      "0.6754643811468798\n",
      "24.332837817470143\n"
     ]
    }
   ],
   "source": [
    "print(\"Training Score\")\n",
    "print(r2_score(y_train,y_pred_train))\n",
    "print(np.sqrt(mean_squared_error(y_train,y_pred_train)))"
   ]
  },
  {
   "cell_type": "code",
   "execution_count": 177,
   "id": "spare-freeware",
   "metadata": {},
   "outputs": [
    {
     "name": "stdout",
     "output_type": "stream",
     "text": [
      "Test Score\n",
      "0.6724509566422661\n",
      "24.136243904987058\n"
     ]
    }
   ],
   "source": [
    "print(\"Test Score\")\n",
    "print(r2_score(y_test,y_pred_test))\n",
    "print(np.sqrt(mean_squared_error(y_test,y_pred_test)))"
   ]
  },
  {
   "cell_type": "markdown",
   "id": "connected-morgan",
   "metadata": {},
   "source": [
    "### Scalling"
   ]
  },
  {
   "cell_type": "code",
   "execution_count": 178,
   "id": "least-melissa",
   "metadata": {},
   "outputs": [],
   "source": [
    "from sklearn.preprocessing import StandardScaler\n",
    "\n",
    "sc = StandardScaler()\n",
    "X_train = sc.fit_transform(X_train)\n",
    "X_test = sc.transform(X_test)\n"
   ]
  },
  {
   "cell_type": "markdown",
   "id": "tropical-terminal",
   "metadata": {},
   "source": [
    "### Model2: Linear Regression with Scalling"
   ]
  },
  {
   "cell_type": "code",
   "execution_count": 179,
   "id": "crude-sally",
   "metadata": {},
   "outputs": [],
   "source": [
    "lm = LinearRegression()\n",
    "model2 = lm.fit(X_train,y_train)\n",
    "\n",
    "y_pred_test=model2.predict(X_test)\n",
    "y_pred_train=model2.predict(X_train)"
   ]
  },
  {
   "cell_type": "code",
   "execution_count": 180,
   "id": "surrounded-attempt",
   "metadata": {},
   "outputs": [
    {
     "name": "stdout",
     "output_type": "stream",
     "text": [
      "Training Score\n",
      "0.6747561780484412\n",
      "24.359372963567736\n"
     ]
    }
   ],
   "source": [
    "print(\"Training Score\")\n",
    "print(r2_score(y_train,y_pred_train))\n",
    "print(np.sqrt(mean_squared_error(y_train,y_pred_train)))"
   ]
  },
  {
   "cell_type": "code",
   "execution_count": 181,
   "id": "dutch-violation",
   "metadata": {},
   "outputs": [
    {
     "name": "stdout",
     "output_type": "stream",
     "text": [
      "Test Score\n",
      "0.6717562157265776\n",
      "24.16182717925595\n"
     ]
    }
   ],
   "source": [
    "print(\"Test Score\")\n",
    "print(r2_score(y_test,y_pred_test))\n",
    "print(np.sqrt(mean_squared_error(y_test,y_pred_test)))"
   ]
  },
  {
   "cell_type": "code",
   "execution_count": 182,
   "id": "fatal-domain",
   "metadata": {},
   "outputs": [
    {
     "data": {
      "text/plain": [
       "array([0.66861224, 0.68616245, 0.68519644, 0.65283719, 0.66832044])"
      ]
     },
     "execution_count": 182,
     "metadata": {},
     "output_type": "execute_result"
    }
   ],
   "source": [
    "from sklearn.model_selection import cross_val_score\n",
    "score = cross_val_score(model1,X_train,y_train,cv=5,scoring=\"r2\")\n",
    "score"
   ]
  },
  {
   "cell_type": "code",
   "execution_count": 183,
   "id": "outer-daughter",
   "metadata": {},
   "outputs": [
    {
     "data": {
      "text/plain": [
       "0.6722257511987871"
      ]
     },
     "execution_count": 183,
     "metadata": {},
     "output_type": "execute_result"
    }
   ],
   "source": [
    "score.mean()"
   ]
  },
  {
   "cell_type": "code",
   "execution_count": 184,
   "id": "disciplinary-authority",
   "metadata": {},
   "outputs": [
    {
     "data": {
      "text/plain": [
       "array([0.66699111, 0.67466155, 0.64819884, 0.70296299, 0.62667048])"
      ]
     },
     "execution_count": 184,
     "metadata": {},
     "output_type": "execute_result"
    }
   ],
   "source": [
    "from sklearn.model_selection import cross_val_score\n",
    "score = cross_val_score(model1,X_test,y_test,cv=5,scoring=\"r2\")\n",
    "score"
   ]
  },
  {
   "cell_type": "code",
   "execution_count": 185,
   "id": "korean-flower",
   "metadata": {},
   "outputs": [
    {
     "data": {
      "text/plain": [
       "0.6638969925466263"
      ]
     },
     "execution_count": 185,
     "metadata": {},
     "output_type": "execute_result"
    }
   ],
   "source": [
    "score.mean()"
   ]
  },
  {
   "cell_type": "code",
   "execution_count": 186,
   "id": "acceptable-symbol",
   "metadata": {},
   "outputs": [
    {
     "name": "stderr",
     "output_type": "stream",
     "text": [
      "C:\\Users\\Debas\\Anaconda3\\lib\\site-packages\\sklearn\\linear_model\\_coordinate_descent.py:531: ConvergenceWarning: Objective did not converge. You might want to increase the number of iterations. Duality gap: 48941.151489724405, tolerance: 1347.6938700179724\n",
      "  positive)\n"
     ]
    }
   ],
   "source": [
    "from sklearn.linear_model import Lasso\n",
    "from sklearn.linear_model import LassoCV\n",
    "import numpy as np\n",
    "model = LassoCV(alphas = np.arange(0.001, 1, 0.001) )\n",
    "model.fit(X_train, y_train)\n",
    "model.alpha_\n",
    "lasso = Lasso(alpha=0.001)\n",
    "model_4 = lasso.fit(X_train, y_train)"
   ]
  },
  {
   "cell_type": "code",
   "execution_count": 187,
   "id": "electric-southwest",
   "metadata": {},
   "outputs": [],
   "source": [
    "train_pred4= model_4.predict(X_train)\n",
    "test_pred4= model_4.predict(X_test)"
   ]
  },
  {
   "cell_type": "code",
   "execution_count": 188,
   "id": "valuable-bradley",
   "metadata": {},
   "outputs": [],
   "source": [
    "rmse_train4= np.sqrt(mean_squared_error(y_train, train_pred4))\n",
    "rmse_test4= np.sqrt(mean_squared_error(y_test, test_pred4))"
   ]
  },
  {
   "cell_type": "code",
   "execution_count": 189,
   "id": "nutritional-typing",
   "metadata": {},
   "outputs": [
    {
     "name": "stdout",
     "output_type": "stream",
     "text": [
      "RMSE on train : 24.32818790261791\n",
      "RMSE on test : 24.132198110677056\n"
     ]
    }
   ],
   "source": [
    "print('RMSE on train :', rmse_train4)\n",
    "print('RMSE on test :', rmse_test4)"
   ]
  },
  {
   "cell_type": "code",
   "execution_count": 190,
   "id": "coordinate-ferry",
   "metadata": {},
   "outputs": [],
   "source": [
    "r2_train4= model_4.score(X_train, y_train)\n",
    "r2_test4= model_4.score(X_test, y_test)"
   ]
  },
  {
   "cell_type": "code",
   "execution_count": 191,
   "id": "electoral-hampshire",
   "metadata": {},
   "outputs": [
    {
     "name": "stdout",
     "output_type": "stream",
     "text": [
      "R2 on train : 0.6755884043962304\n",
      "R2 on test : 0.672560757073044\n"
     ]
    }
   ],
   "source": [
    "print('R2 on train :', r2_train4)\n",
    "print('R2 on test :', r2_test4)"
   ]
  },
  {
   "cell_type": "markdown",
   "id": "complicated-ocean",
   "metadata": {},
   "source": [
    "### Model3: KNN Regressor"
   ]
  },
  {
   "cell_type": "code",
   "execution_count": 214,
   "id": "regulated-concept",
   "metadata": {},
   "outputs": [],
   "source": [
    "X = final_df.drop(['Rent_transform','Price_per_sqft'],axis=1)\n",
    "y = final_df.Rent_transform"
   ]
  },
  {
   "cell_type": "code",
   "execution_count": 215,
   "id": "differential-shopper",
   "metadata": {},
   "outputs": [],
   "source": [
    "from sklearn.model_selection import train_test_split\n",
    "\n",
    "X_train, X_test,y_train,y_test = train_test_split(X,y,test_size=0.2,random_state = 10)"
   ]
  },
  {
   "cell_type": "code",
   "execution_count": 216,
   "id": "intensive-prince",
   "metadata": {},
   "outputs": [],
   "source": [
    "from sklearn.preprocessing import StandardScaler\n",
    "\n",
    "sc = StandardScaler()\n",
    "X_train = sc.fit_transform(X_train)\n",
    "X_test = sc.transform(X_test)"
   ]
  },
  {
   "cell_type": "code",
   "execution_count": 192,
   "id": "round-brunei",
   "metadata": {},
   "outputs": [],
   "source": [
    "from sklearn.neighbors import KNeighborsRegressor"
   ]
  },
  {
   "cell_type": "code",
   "execution_count": 193,
   "id": "sensitive-extreme",
   "metadata": {},
   "outputs": [],
   "source": [
    "knn = KNeighborsRegressor()\n",
    "model3 = knn.fit(X_train, y_train)\n",
    "\n",
    "y_pred_test=model3.predict(X_test)\n",
    "y_pred_train=model3.predict(X_train)"
   ]
  },
  {
   "cell_type": "code",
   "execution_count": 194,
   "id": "tired-thomas",
   "metadata": {},
   "outputs": [
    {
     "name": "stdout",
     "output_type": "stream",
     "text": [
      "Training Score\n",
      "0.7146307292240262\n",
      "22.817348714310604\n"
     ]
    }
   ],
   "source": [
    "print(\"Training Score\")\n",
    "print(r2_score(y_train,y_pred_train))\n",
    "print(np.sqrt(mean_squared_error(y_train,y_pred_train)))"
   ]
  },
  {
   "cell_type": "code",
   "execution_count": 195,
   "id": "inside-letters",
   "metadata": {},
   "outputs": [
    {
     "name": "stdout",
     "output_type": "stream",
     "text": [
      "Testing Score\n",
      "0.5680726799383924\n",
      "27.716402243645312\n"
     ]
    }
   ],
   "source": [
    "print(\"Testing Score\")\n",
    "print(r2_score(y_test,y_pred_test))\n",
    "print(np.sqrt(mean_squared_error(y_test,y_pred_test)))"
   ]
  },
  {
   "cell_type": "code",
   "execution_count": 196,
   "id": "robust-riding",
   "metadata": {},
   "outputs": [
    {
     "data": {
      "text/plain": [
       "{'n_neighbors': 12}"
      ]
     },
     "execution_count": 196,
     "metadata": {},
     "output_type": "execute_result"
    }
   ],
   "source": [
    "from sklearn.model_selection import GridSearchCV\n",
    "params = {'n_neighbors':range(1,49)}\n",
    "\n",
    "knn = KNeighborsRegressor()\n",
    "\n",
    "model = GridSearchCV(knn, params, cv=5)\n",
    "model.fit(X_train, y_train)\n",
    "model.best_params_"
   ]
  },
  {
   "cell_type": "code",
   "execution_count": 217,
   "id": "recorded-balance",
   "metadata": {},
   "outputs": [],
   "source": [
    "knn = KNeighborsRegressor(n_neighbors=12)\n",
    "model3 = knn.fit(X_train, y_train)\n",
    "\n",
    "y_pred_test=model3.predict(X_test)\n",
    "y_pred_train=model3.predict(X_train)"
   ]
  },
  {
   "cell_type": "code",
   "execution_count": 218,
   "id": "negative-shooting",
   "metadata": {},
   "outputs": [
    {
     "name": "stdout",
     "output_type": "stream",
     "text": [
      "Testing Score\n",
      "0.5872847659254012\n",
      "27.092979481402605\n"
     ]
    }
   ],
   "source": [
    "print(\"Testing Score\")\n",
    "print(r2_score(y_test,y_pred_test))\n",
    "print(np.sqrt(mean_squared_error(y_test,y_pred_test)))"
   ]
  },
  {
   "cell_type": "markdown",
   "id": "better-award",
   "metadata": {},
   "source": [
    "### Model4: Random Forest Regressor"
   ]
  },
  {
   "cell_type": "code",
   "execution_count": 219,
   "id": "beneficial-charles",
   "metadata": {},
   "outputs": [],
   "source": [
    "X = final_df.drop(['Rent_transform','Price_per_sqft'],axis=1)\n",
    "y = final_df.Rent_transform"
   ]
  },
  {
   "cell_type": "code",
   "execution_count": 220,
   "id": "numerical-maria",
   "metadata": {},
   "outputs": [],
   "source": [
    "from sklearn.model_selection import train_test_split\n",
    "X_train, X_test,y_train,y_test = train_test_split(X,y,test_size=0.2,random_state = 50)"
   ]
  },
  {
   "cell_type": "code",
   "execution_count": 221,
   "id": "addressed-jurisdiction",
   "metadata": {},
   "outputs": [],
   "source": [
    "from sklearn.ensemble import RandomForestRegressor\n",
    "rfr= RandomForestRegressor()\n",
    "model_4=rfr.fit(X_train,y_train)"
   ]
  },
  {
   "cell_type": "code",
   "execution_count": 222,
   "id": "stainless-consequence",
   "metadata": {},
   "outputs": [],
   "source": [
    "y_pred_train=model_4.predict(X_train)"
   ]
  },
  {
   "cell_type": "code",
   "execution_count": 223,
   "id": "forced-article",
   "metadata": {},
   "outputs": [
    {
     "name": "stdout",
     "output_type": "stream",
     "text": [
      "Score based on training data:\n",
      "R-squared : 94.45%\n",
      "RMSE : 10.05\n"
     ]
    }
   ],
   "source": [
    "print(\"Score based on training data:\")\n",
    "print(\"R-squared : {}%\".format((r2_score(y_train,y_pred_train)*100).round(2)))\n",
    "print(\"RMSE :\", np.sqrt(mean_squared_error(y_train,y_pred_train)).round(2))"
   ]
  },
  {
   "cell_type": "code",
   "execution_count": 224,
   "id": "silver-positive",
   "metadata": {},
   "outputs": [],
   "source": [
    "y_pred_test = model_4.predict(X_test)"
   ]
  },
  {
   "cell_type": "code",
   "execution_count": 225,
   "id": "excited-foundation",
   "metadata": {},
   "outputs": [
    {
     "name": "stdout",
     "output_type": "stream",
     "text": [
      "Score based on test data:\n",
      "R-squared : 67.87%\n",
      "RMSE : 24.04\n"
     ]
    }
   ],
   "source": [
    "print(\"Score based on test data:\")\n",
    "print(\"R-squared : {}%\".format((r2_score(y_test,y_pred_test)*100).round(2)))\n",
    "print(\"RMSE :\", np.sqrt(mean_squared_error(y_test,y_pred_test)).round(2))"
   ]
  },
  {
   "cell_type": "code",
   "execution_count": 206,
   "id": "inner-remains",
   "metadata": {},
   "outputs": [],
   "source": [
    "from sklearn.model_selection import RandomizedSearchCV"
   ]
  },
  {
   "cell_type": "code",
   "execution_count": 208,
   "id": "destroyed-attempt",
   "metadata": {},
   "outputs": [],
   "source": [
    "# Number of trees in random forest\n",
    "n_estimators = [int(x) for x in np.linspace(start = 200, stop = 2000, num = 10)]\n",
    "\n",
    "# Number of features to consider at every split\n",
    "max_features = ['auto', 'sqrt']\n",
    "\n",
    "# Maximum number of levels in tree\n",
    "max_depth = [int(x) for x in np.linspace(1, 110, num = 11)]\n",
    "#max_depth.append(None)\n",
    "\n",
    "# Minimum number of samples required to split a node\n",
    "min_samples_split = [2, 5, 10,12,16]\n",
    "\n",
    "# Minimum number of samples required at each leaf node\n",
    "min_samples_leaf = [1, 2, 4,5]\n",
    "\n",
    "# Method of selecting samples for training each tree\n",
    "bootstrap = [True, False]"
   ]
  },
  {
   "cell_type": "code",
   "execution_count": 209,
   "id": "bright-coast",
   "metadata": {},
   "outputs": [],
   "source": [
    "#Create the random grid\n",
    "param_grid = {'n_estimators': n_estimators,\n",
    "               'max_features': max_features,\n",
    "               'max_depth': max_depth,\n",
    "               'min_samples_split': min_samples_split,\n",
    "               'min_samples_leaf': min_samples_leaf,\n",
    "               'bootstrap': bootstrap}"
   ]
  },
  {
   "cell_type": "code",
   "execution_count": 210,
   "id": "powerful-minnesota",
   "metadata": {},
   "outputs": [
    {
     "name": "stdout",
     "output_type": "stream",
     "text": [
      "Fitting 3 folds for each of 100 candidates, totalling 300 fits\n"
     ]
    },
    {
     "name": "stderr",
     "output_type": "stream",
     "text": [
      "[Parallel(n_jobs=-1)]: Using backend LokyBackend with 8 concurrent workers.\n",
      "[Parallel(n_jobs=-1)]: Done  34 tasks      | elapsed:  3.6min\n",
      "[Parallel(n_jobs=-1)]: Done 184 tasks      | elapsed: 19.4min\n",
      "[Parallel(n_jobs=-1)]: Done 300 out of 300 | elapsed: 32.1min finished\n"
     ]
    },
    {
     "data": {
      "text/plain": [
       "RandomizedSearchCV(cv=3, estimator=RandomForestRegressor(), n_iter=100,\n",
       "                   n_jobs=-1,\n",
       "                   param_distributions={'bootstrap': [True, False],\n",
       "                                        'max_depth': [1, 11, 22, 33, 44, 55, 66,\n",
       "                                                      77, 88, 99, 110],\n",
       "                                        'max_features': ['auto', 'sqrt'],\n",
       "                                        'min_samples_leaf': [1, 2, 4, 5],\n",
       "                                        'min_samples_split': [2, 5, 10, 12, 16],\n",
       "                                        'n_estimators': [200, 400, 600, 800,\n",
       "                                                         1000, 1200, 1400, 1600,\n",
       "                                                         1800, 2000]},\n",
       "                   random_state=50, verbose=True)"
      ]
     },
     "execution_count": 210,
     "metadata": {},
     "output_type": "execute_result"
    }
   ],
   "source": [
    "rf = RandomForestRegressor()\n",
    "\n",
    "rf_random = RandomizedSearchCV(estimator = rf, param_distributions = param_grid, \n",
    "                               n_iter = 100, cv = 3, verbose=True, random_state = 50, n_jobs = -1)\n",
    "\n",
    "rf_random.fit(X_train, y_train)"
   ]
  },
  {
   "cell_type": "code",
   "execution_count": 211,
   "id": "amateur-valve",
   "metadata": {},
   "outputs": [
    {
     "data": {
      "text/plain": [
       "{'n_estimators': 400,\n",
       " 'min_samples_split': 16,\n",
       " 'min_samples_leaf': 2,\n",
       " 'max_features': 'auto',\n",
       " 'max_depth': 99,\n",
       " 'bootstrap': True}"
      ]
     },
     "execution_count": 211,
     "metadata": {},
     "output_type": "execute_result"
    }
   ],
   "source": [
    "rf_random.best_params_"
   ]
  },
  {
   "cell_type": "code",
   "execution_count": 226,
   "id": "massive-temple",
   "metadata": {},
   "outputs": [],
   "source": [
    "model_44 = RandomForestRegressor(**{'n_estimators': 400,\n",
    " 'min_samples_split': 16,\n",
    " 'min_samples_leaf': 2,\n",
    " 'max_features': 'auto',\n",
    " 'max_depth': 99,\n",
    " 'bootstrap': True})\n"
   ]
  },
  {
   "cell_type": "code",
   "execution_count": 227,
   "id": "orange-means",
   "metadata": {},
   "outputs": [
    {
     "data": {
      "text/plain": [
       "RandomForestRegressor(max_depth=99, min_samples_leaf=2, min_samples_split=16,\n",
       "                      n_estimators=400)"
      ]
     },
     "execution_count": 227,
     "metadata": {},
     "output_type": "execute_result"
    }
   ],
   "source": [
    "model_44.fit(X_train,y_train)"
   ]
  },
  {
   "cell_type": "code",
   "execution_count": 228,
   "id": "otherwise-customs",
   "metadata": {},
   "outputs": [],
   "source": [
    "model_44.feature_importances_\n",
    "X_feature_names = X.columns"
   ]
  },
  {
   "cell_type": "code",
   "execution_count": 229,
   "id": "eight-helicopter",
   "metadata": {},
   "outputs": [
    {
     "data": {
      "image/png": "[encoded data removed]",
      "text/plain": [
       "<Figure size 720x360 with 1 Axes>"
      ]
     },
     "metadata": {
      "needs_background": "light"
     },
     "output_type": "display_data"
    }
   ],
   "source": [
    "fig, ax = plt.subplots(figsize=(10,5))\n",
    "bar_rects = ax.bar(np.arange(34), model_44.feature_importances_, color='r', align='center')\n",
    "ax.xaxis.set_ticks(np.arange(34))\n",
    "ax.set_xticklabels(X_feature_names, rotation='vertical')\n",
    "plt.show()"
   ]
  },
  {
   "cell_type": "code",
   "execution_count": 230,
   "id": "indian-session",
   "metadata": {},
   "outputs": [],
   "source": [
    "y_pred_train=model_44.predict(X_train)"
   ]
  },
  {
   "cell_type": "code",
   "execution_count": 231,
   "id": "decreased-offering",
   "metadata": {},
   "outputs": [
    {
     "name": "stdout",
     "output_type": "stream",
     "text": [
      "Score based on training data:\n",
      "R-squared : 82.66%\n",
      "RMSE : 17.76\n"
     ]
    }
   ],
   "source": [
    "print(\"Score based on training data:\")\n",
    "print(\"R-squared : {}%\".format((r2_score(y_train,y_pred_train)*100).round(2)))\n",
    "print(\"RMSE :\", np.sqrt(mean_squared_error(y_train,y_pred_train)).round(2))"
   ]
  },
  {
   "cell_type": "code",
   "execution_count": 232,
   "id": "determined-pizza",
   "metadata": {},
   "outputs": [],
   "source": [
    "y_pred_test = model_44.predict(X_test)"
   ]
  },
  {
   "cell_type": "code",
   "execution_count": 233,
   "id": "negative-nightmare",
   "metadata": {},
   "outputs": [
    {
     "name": "stdout",
     "output_type": "stream",
     "text": [
      "Score based on test data:\n",
      "R-squared : 70.32%\n",
      "RMSE : 23.11\n"
     ]
    }
   ],
   "source": [
    "print(\"Score based on test data:\")\n",
    "print(\"R-squared : {}%\".format((r2_score(y_test,y_pred_test)*100).round(2)))\n",
    "print(\"RMSE :\", np.sqrt(mean_squared_error(y_test,y_pred_test)).round(2))"
   ]
  },
  {
   "cell_type": "code",
   "execution_count": 237,
   "id": "stock-sending",
   "metadata": {},
   "outputs": [],
   "source": [
    "def predict_price(location,facing,water,typ,area,balcony,age,parking,bhk,security,bathroom,furnishing):    \n",
    "    loc_index = np.where(X.columns==location)[0][0]\n",
    "    facing_index = np.where(X.columns==facing)[0][0]\n",
    "    water_index = np.where(X.columns==water)[0][0]\n",
    "    typ_index = np.where(X.columns==typ)[0][0]\n",
    "\n",
    "    x = np.zeros(len(X.columns))\n",
    "    x[33] = area\n",
    "    x[32] = balcony\n",
    "    x[31] = age\n",
    "    x[30] = parking\n",
    "    x[29] = bhk\n",
    "    x[28] = security\n",
    "    x[27] = bathroom\n",
    "    x[26] = furnishing\n",
    "    \n",
    "    if loc_index >= 0:\n",
    "        x[loc_index] = 1\n",
    "        \n",
    "        \n",
    "    if facing_index >= 0:\n",
    "        x[facing_index] = 1\n",
    "\n",
    "    if water_index >= 0:\n",
    "        x[water_index] = 1\n",
    "\n",
    "    if water_index >= 0:\n",
    "        x[water_index] = 1  \n",
    "        \n",
    "    predict = model_44.predict([x])[0]\n",
    "    predict_price = predict**2\n",
    "    return predict_price"
   ]
  },
  {
   "cell_type": "code",
   "execution_count": 238,
   "id": "informal-corruption",
   "metadata": {},
   "outputs": [
    {
     "data": {
      "text/plain": [
       "53977.72561382182"
      ]
     },
     "execution_count": 238,
     "metadata": {},
     "output_type": "execute_result"
    }
   ],
   "source": [
    "predict_price('mumbai','East','Corporation','Apartment',939,1,1,1,2,1,2,1)\n"
   ]
  },
  {
   "cell_type": "code",
   "execution_count": 239,
   "id": "expected-livestock",
   "metadata": {},
   "outputs": [],
   "source": [
    "import pickle\n",
    "filename = 'rent_rfr_new.pkl'\n",
    "pickle.dump(model_44, open(filename, 'wb'))"
   ]
  },
  {
   "cell_type": "code",
   "execution_count": 240,
   "id": "animated-matthew",
   "metadata": {},
   "outputs": [],
   "source": [
    "final_df.to_csv(\"final_df.csv\",index=False)"
   ]
  },
  {
   "cell_type": "markdown",
   "id": "weird-princeton",
   "metadata": {},
   "source": [
    "### Model 5: XG Booster Regressor"
   ]
  },
  {
   "cell_type": "code",
   "execution_count": 241,
   "id": "optical-aviation",
   "metadata": {},
   "outputs": [],
   "source": [
    "from sklearn.model_selection import train_test_split"
   ]
  },
  {
   "cell_type": "code",
   "execution_count": 242,
   "id": "dimensional-rouge",
   "metadata": {},
   "outputs": [],
   "source": [
    "X = final_df.drop(['Rent_transform','Price_per_sqft'],axis=1)\n",
    "y = final_df.Rent_transform"
   ]
  },
  {
   "cell_type": "code",
   "execution_count": 243,
   "id": "double-championship",
   "metadata": {},
   "outputs": [],
   "source": [
    "X_train, X_test, y_train, y_test = train_test_split(X, y, test_size=0.2, random_state=50)"
   ]
  },
  {
   "cell_type": "code",
   "execution_count": 244,
   "id": "bored-referral",
   "metadata": {},
   "outputs": [],
   "source": [
    "from xgboost import XGBRegressor"
   ]
  },
  {
   "cell_type": "code",
   "execution_count": 245,
   "id": "royal-cathedral",
   "metadata": {},
   "outputs": [],
   "source": [
    "model5 = XGBRegressor()\n",
    "model5.fit(X_train, y_train)\n",
    "\n",
    "y_pred_train=model5.predict(X_train)\n",
    "y_pred_test = model5.predict(X_test)\n"
   ]
  },
  {
   "cell_type": "code",
   "execution_count": 246,
   "id": "played-sweden",
   "metadata": {},
   "outputs": [
    {
     "name": "stdout",
     "output_type": "stream",
     "text": [
      "Score based on training data:\n",
      "R-squared : 87.15%\n",
      "RMSE : 15.29\n"
     ]
    }
   ],
   "source": [
    "print(\"Score based on training data:\")\n",
    "print(\"R-squared : {}%\".format((r2_score(y_train,y_pred_train)*100).round(2)))\n",
    "print(\"RMSE :\", np.sqrt(mean_squared_error(y_train,y_pred_train)).round(2))"
   ]
  },
  {
   "cell_type": "code",
   "execution_count": 247,
   "id": "minimal-sitting",
   "metadata": {},
   "outputs": [
    {
     "name": "stdout",
     "output_type": "stream",
     "text": [
      "Score based on test data:\n",
      "R-squared : 67.45%\n",
      "RMSE : 24.2\n"
     ]
    }
   ],
   "source": [
    "print(\"Score based on test data:\")\n",
    "print(\"R-squared : {}%\".format((r2_score(y_test,y_pred_test)*100).round(2)))\n",
    "print(\"RMSE :\", np.sqrt(mean_squared_error(y_test,y_pred_test)).round(2))"
   ]
  }
 ],
 "metadata": {
  "kernelspec": {
   "display_name": "Python 3",
   "language": "python",
   "name": "python3"
  },
  "language_info": {
   "codemirror_mode": {
    "name": "ipython",
    "version": 3
   },
   "file_extension": ".py",
   "mimetype": "text/x-python",
   "name": "python",
   "nbconvert_exporter": "python",
   "pygments_lexer": "ipython3",
   "version": "3.7.4"
  }
 },
 "nbformat": 4,
 "nbformat_minor": 5
}
